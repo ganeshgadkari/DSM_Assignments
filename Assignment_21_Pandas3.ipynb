{
  "nbformat": 4,
  "nbformat_minor": 0,
  "metadata": {
    "colab": {
      "provenance": []
    },
    "kernelspec": {
      "name": "python3",
      "display_name": "Python 3"
    },
    "language_info": {
      "name": "python"
    }
  },
  "cells": [
    {
      "cell_type": "markdown",
      "source": [
        "Q1. Write a code to print the data present in the second row of the dataframe, df.\n",
        "\n",
        "import pandas as pd\n",
        "course_name = [‘Data Science’, ‘Machine Learning’, ‘Big Data’, ‘Data Engineer’]\n",
        "duration = [2,3,6,4]\n",
        "\n",
        "\n",
        "\n",
        "df = pd.DataFrame(data = {‘course_name’ : course_name, ‘duration’ : duration})"
      ],
      "metadata": {
        "id": "MeVRCpsAmsQE"
      }
    },
    {
      "cell_type": "code",
      "execution_count": null,
      "metadata": {
        "colab": {
          "base_uri": "https://localhost:8080/"
        },
        "id": "uSq3yW7Wlt7Q",
        "outputId": "41a75956-7622-42e0-d298-7ad66b96b293"
      },
      "outputs": [
        {
          "output_type": "stream",
          "name": "stdout",
          "text": [
            "course_name    Machine Learning\n",
            "duration                      3\n",
            "Name: 1, dtype: object\n"
          ]
        }
      ],
      "source": [
        "import pandas as pd\n",
        "\n",
        "course_name = ['Data Science', 'Machine Learning', 'Big Data', 'Data Engineer']\n",
        "duration = [2, 3, 6, 4]\n",
        "\n",
        "df = pd.DataFrame(data={'course_name': course_name, 'duration': duration})\n",
        "\n",
        "# Print the data present in the second row\n",
        "print(df.iloc[1])\n"
      ]
    },
    {
      "cell_type": "markdown",
      "source": [
        "##Q2. What is the difference between the functions loc and iloc in pandas DataFrame?\n",
        "Ans -\n",
        "1) loc: It is primarily label-based indexing, meaning it uses labels or names to locate and access data. The loc function accepts row and column labels as arguments. Here are some key points about loc:\n",
        "\n",
        "It uses explicit labels to access rows or columns.\n",
        "The syntax is df.loc[row_label, column_label].\n",
        "It can accept single labels, lists of labels, or slices of labels.\n",
        "Both the row and column labels are inclusive when using loc.\n",
        "\n",
        "2)iloc: It is primarily integer-based indexing, meaning it uses integer positions to locate and access data. The iloc function accepts integer indices as arguments. Here are some key points about iloc:\n",
        "\n",
        "It uses integer positions to access rows or columns.\n",
        "The syntax is df.iloc[row_index, column_index].\n",
        "It can accept single indices, lists of indices, or slices of indices.\n",
        "The index positions are zero-based, so the first row or column has index 0.\n",
        "Similar to regular Python indexing, the end index of a slice in iloc is exclusive."
      ],
      "metadata": {
        "id": "4QENhzedz-rP"
      }
    },
    {
      "cell_type": "markdown",
      "source": [
        "##Q3. Reindex the given dataframe using a variable, reindex = [3,0,1,2] and store it in the variable, new_df then find the output for both new_df.loc[2] and new_df.iloc[2]."
      ],
      "metadata": {
        "id": "eYj2TwL90q-M"
      }
    },
    {
      "cell_type": "code",
      "source": [
        "import pandas as pd\n",
        "import numpy as np\n",
        "\n",
        "columns = ['column_1', 'column_2', 'column_3', 'column_4', 'column_5', 'column_6']\n",
        "indices = [1, 2, 3, 4, 5, 6]\n",
        "df1 = pd.DataFrame(np.random.rand(6, 6), columns=columns, index=indices)\n",
        "\n",
        "reindex = [3, 0, 1, 2]\n",
        "new_df = df1.reindex(reindex)\n",
        "\n",
        "print(new_df.loc[2])\n",
        "print(new_df.iloc[2])\n",
        "\n"
      ],
      "metadata": {
        "colab": {
          "base_uri": "https://localhost:8080/"
        },
        "id": "1r74RP6_zvNJ",
        "outputId": "5e997230-2064-4676-9f65-1780ff3c6b0d"
      },
      "execution_count": null,
      "outputs": [
        {
          "output_type": "stream",
          "name": "stdout",
          "text": [
            "column_1    0.431846\n",
            "column_2    0.064091\n",
            "column_3    0.275497\n",
            "column_4    0.629277\n",
            "column_5    0.395477\n",
            "column_6    0.496364\n",
            "Name: 2, dtype: float64\n",
            "column_1    0.370770\n",
            "column_2    0.999678\n",
            "column_3    0.916012\n",
            "column_4    0.338419\n",
            "column_5    0.584656\n",
            "column_6    0.240511\n",
            "Name: 1, dtype: float64\n"
          ]
        }
      ]
    },
    {
      "cell_type": "markdown",
      "source": [
        "##Q4. Write a code to find the following statistical measurements for the above dataframe df1:\n",
        "(i) mean of each and every column present in the dataframe.\n",
        "(ii) standard deviation of column, ‘column_2’"
      ],
      "metadata": {
        "id": "EeEu0SvnI7l9"
      }
    },
    {
      "cell_type": "code",
      "source": [
        "import pandas as pd\n",
        "import numpy as np\n",
        "\n",
        "columns = ['column_1', 'column_2', 'column_3', 'column_4', 'column_5', 'column_6']\n",
        "indices = [1, 2, 3, 4, 5, 6]\n",
        "df1 = pd.DataFrame(np.random.rand(6, 6), columns=columns, index=indices)\n",
        "\n",
        "# (i) Mean of each column\n",
        "column_means = df1.mean()\n",
        "print(\"Mean of each column:\")\n",
        "print(column_means)\n",
        "\n",
        "# (ii) Standard deviation of 'column_2'\n",
        "column_2_std = df1['column_2'].std()\n",
        "print(\"\\nStandard deviation of 'column_2':\")\n",
        "print(column_2_std)\n"
      ],
      "metadata": {
        "colab": {
          "base_uri": "https://localhost:8080/"
        },
        "id": "stfFUtwzRpaB",
        "outputId": "608eebe7-793b-47e1-acb9-7e20d6309575"
      },
      "execution_count": null,
      "outputs": [
        {
          "output_type": "stream",
          "name": "stdout",
          "text": [
            "Mean of each column:\n",
            "column_1    0.406713\n",
            "column_2    0.563837\n",
            "column_3    0.317526\n",
            "column_4    0.673374\n",
            "column_5    0.452912\n",
            "column_6    0.362297\n",
            "dtype: float64\n",
            "\n",
            "Standard deviation of 'column_2':\n",
            "0.3049407006980281\n"
          ]
        }
      ]
    },
    {
      "cell_type": "markdown",
      "source": [
        "##Q5. Replace the data present in the second row of column, ‘column_2’ by a string variable then find the mean of column, column_2.\n",
        "If you are getting errors in executing it then explain why.\n",
        "[Hint: To replace the data use df1.loc[] and equate this to string data of your choice.]"
      ],
      "metadata": {
        "id": "O0CJTGLjSCP9"
      }
    },
    {
      "cell_type": "code",
      "source": [
        "import pandas as pd\n",
        "\n",
        "data = {'column_1': [1, 2, 3, 4, 5],\n",
        "        'column_2': [6, 7, 8, 9, 10],\n",
        "        'column_3': [11, 12, 13, 14, 15]}\n",
        "\n",
        "df1 = pd.DataFrame(data)\n",
        "\n",
        "# Replace the data in the second row of 'column_2' with a string\n",
        "df1.loc[1, 'column_2'] = 'replacement_string'\n",
        "\n",
        "# Attempt to calculate the mean of 'column_2'\n",
        "mean_column_2 = df1['column_2'].mean()\n",
        "\n",
        "print(\"Mean of 'column_2':\", mean_column_2)\n",
        "\n"
      ],
      "metadata": {
        "colab": {
          "base_uri": "https://localhost:8080/",
          "height": 380
        },
        "id": "ITG96Pm5RrlQ",
        "outputId": "d93a574b-0262-4223-9c5b-4d56feb70bfd"
      },
      "execution_count": null,
      "outputs": [
        {
          "output_type": "error",
          "ename": "TypeError",
          "evalue": "ignored",
          "traceback": [
            "\u001b[0;31m---------------------------------------------------------------------------\u001b[0m",
            "\u001b[0;31mTypeError\u001b[0m                                 Traceback (most recent call last)",
            "\u001b[0;32m<ipython-input-6-c81ec70093a5>\u001b[0m in \u001b[0;36m<cell line: 13>\u001b[0;34m()\u001b[0m\n\u001b[1;32m     11\u001b[0m \u001b[0;34m\u001b[0m\u001b[0m\n\u001b[1;32m     12\u001b[0m \u001b[0;31m# Attempt to calculate the mean of 'column_2'\u001b[0m\u001b[0;34m\u001b[0m\u001b[0;34m\u001b[0m\u001b[0m\n\u001b[0;32m---> 13\u001b[0;31m \u001b[0mmean_column_2\u001b[0m \u001b[0;34m=\u001b[0m \u001b[0mdf1\u001b[0m\u001b[0;34m[\u001b[0m\u001b[0;34m'column_2'\u001b[0m\u001b[0;34m]\u001b[0m\u001b[0;34m.\u001b[0m\u001b[0mmean\u001b[0m\u001b[0;34m(\u001b[0m\u001b[0;34m)\u001b[0m\u001b[0;34m\u001b[0m\u001b[0;34m\u001b[0m\u001b[0m\n\u001b[0m\u001b[1;32m     14\u001b[0m \u001b[0;34m\u001b[0m\u001b[0m\n\u001b[1;32m     15\u001b[0m \u001b[0mprint\u001b[0m\u001b[0;34m(\u001b[0m\u001b[0;34m\"Mean of 'column_2':\"\u001b[0m\u001b[0;34m,\u001b[0m \u001b[0mmean_column_2\u001b[0m\u001b[0;34m)\u001b[0m\u001b[0;34m\u001b[0m\u001b[0;34m\u001b[0m\u001b[0m\n",
            "\u001b[0;32m/usr/local/lib/python3.10/dist-packages/pandas/core/generic.py\u001b[0m in \u001b[0;36mmean\u001b[0;34m(self, axis, skipna, level, numeric_only, **kwargs)\u001b[0m\n\u001b[1;32m  11845\u001b[0m             \u001b[0;34m**\u001b[0m\u001b[0mkwargs\u001b[0m\u001b[0;34m,\u001b[0m\u001b[0;34m\u001b[0m\u001b[0;34m\u001b[0m\u001b[0m\n\u001b[1;32m  11846\u001b[0m         ):\n\u001b[0;32m> 11847\u001b[0;31m             \u001b[0;32mreturn\u001b[0m \u001b[0mNDFrame\u001b[0m\u001b[0;34m.\u001b[0m\u001b[0mmean\u001b[0m\u001b[0;34m(\u001b[0m\u001b[0mself\u001b[0m\u001b[0;34m,\u001b[0m \u001b[0maxis\u001b[0m\u001b[0;34m,\u001b[0m \u001b[0mskipna\u001b[0m\u001b[0;34m,\u001b[0m \u001b[0mlevel\u001b[0m\u001b[0;34m,\u001b[0m \u001b[0mnumeric_only\u001b[0m\u001b[0;34m,\u001b[0m \u001b[0;34m**\u001b[0m\u001b[0mkwargs\u001b[0m\u001b[0;34m)\u001b[0m\u001b[0;34m\u001b[0m\u001b[0;34m\u001b[0m\u001b[0m\n\u001b[0m\u001b[1;32m  11848\u001b[0m \u001b[0;34m\u001b[0m\u001b[0m\n\u001b[1;32m  11849\u001b[0m         \u001b[0msetattr\u001b[0m\u001b[0;34m(\u001b[0m\u001b[0mcls\u001b[0m\u001b[0;34m,\u001b[0m \u001b[0;34m\"mean\"\u001b[0m\u001b[0;34m,\u001b[0m \u001b[0mmean\u001b[0m\u001b[0;34m)\u001b[0m\u001b[0;34m\u001b[0m\u001b[0;34m\u001b[0m\u001b[0m\n",
            "\u001b[0;32m/usr/local/lib/python3.10/dist-packages/pandas/core/generic.py\u001b[0m in \u001b[0;36mmean\u001b[0;34m(self, axis, skipna, level, numeric_only, **kwargs)\u001b[0m\n\u001b[1;32m  11399\u001b[0m         \u001b[0;34m**\u001b[0m\u001b[0mkwargs\u001b[0m\u001b[0;34m,\u001b[0m\u001b[0;34m\u001b[0m\u001b[0;34m\u001b[0m\u001b[0m\n\u001b[1;32m  11400\u001b[0m     ) -> Series | float:\n\u001b[0;32m> 11401\u001b[0;31m         return self._stat_function(\n\u001b[0m\u001b[1;32m  11402\u001b[0m             \u001b[0;34m\"mean\"\u001b[0m\u001b[0;34m,\u001b[0m \u001b[0mnanops\u001b[0m\u001b[0;34m.\u001b[0m\u001b[0mnanmean\u001b[0m\u001b[0;34m,\u001b[0m \u001b[0maxis\u001b[0m\u001b[0;34m,\u001b[0m \u001b[0mskipna\u001b[0m\u001b[0;34m,\u001b[0m \u001b[0mlevel\u001b[0m\u001b[0;34m,\u001b[0m \u001b[0mnumeric_only\u001b[0m\u001b[0;34m,\u001b[0m \u001b[0;34m**\u001b[0m\u001b[0mkwargs\u001b[0m\u001b[0;34m\u001b[0m\u001b[0;34m\u001b[0m\u001b[0m\n\u001b[1;32m  11403\u001b[0m         )\n",
            "\u001b[0;32m/usr/local/lib/python3.10/dist-packages/pandas/core/generic.py\u001b[0m in \u001b[0;36m_stat_function\u001b[0;34m(self, name, func, axis, skipna, level, numeric_only, **kwargs)\u001b[0m\n\u001b[1;32m  11351\u001b[0m                 \u001b[0mname\u001b[0m\u001b[0;34m,\u001b[0m \u001b[0maxis\u001b[0m\u001b[0;34m=\u001b[0m\u001b[0maxis\u001b[0m\u001b[0;34m,\u001b[0m \u001b[0mlevel\u001b[0m\u001b[0;34m=\u001b[0m\u001b[0mlevel\u001b[0m\u001b[0;34m,\u001b[0m \u001b[0mskipna\u001b[0m\u001b[0;34m=\u001b[0m\u001b[0mskipna\u001b[0m\u001b[0;34m,\u001b[0m \u001b[0mnumeric_only\u001b[0m\u001b[0;34m=\u001b[0m\u001b[0mnumeric_only\u001b[0m\u001b[0;34m\u001b[0m\u001b[0;34m\u001b[0m\u001b[0m\n\u001b[1;32m  11352\u001b[0m             )\n\u001b[0;32m> 11353\u001b[0;31m         return self._reduce(\n\u001b[0m\u001b[1;32m  11354\u001b[0m             \u001b[0mfunc\u001b[0m\u001b[0;34m,\u001b[0m \u001b[0mname\u001b[0m\u001b[0;34m=\u001b[0m\u001b[0mname\u001b[0m\u001b[0;34m,\u001b[0m \u001b[0maxis\u001b[0m\u001b[0;34m=\u001b[0m\u001b[0maxis\u001b[0m\u001b[0;34m,\u001b[0m \u001b[0mskipna\u001b[0m\u001b[0;34m=\u001b[0m\u001b[0mskipna\u001b[0m\u001b[0;34m,\u001b[0m \u001b[0mnumeric_only\u001b[0m\u001b[0;34m=\u001b[0m\u001b[0mnumeric_only\u001b[0m\u001b[0;34m\u001b[0m\u001b[0;34m\u001b[0m\u001b[0m\n\u001b[1;32m  11355\u001b[0m         )\n",
            "\u001b[0;32m/usr/local/lib/python3.10/dist-packages/pandas/core/series.py\u001b[0m in \u001b[0;36m_reduce\u001b[0;34m(self, op, name, axis, skipna, numeric_only, filter_type, **kwds)\u001b[0m\n\u001b[1;32m   4814\u001b[0m                 )\n\u001b[1;32m   4815\u001b[0m             \u001b[0;32mwith\u001b[0m \u001b[0mnp\u001b[0m\u001b[0;34m.\u001b[0m\u001b[0merrstate\u001b[0m\u001b[0;34m(\u001b[0m\u001b[0mall\u001b[0m\u001b[0;34m=\u001b[0m\u001b[0;34m\"ignore\"\u001b[0m\u001b[0;34m)\u001b[0m\u001b[0;34m:\u001b[0m\u001b[0;34m\u001b[0m\u001b[0;34m\u001b[0m\u001b[0m\n\u001b[0;32m-> 4816\u001b[0;31m                 \u001b[0;32mreturn\u001b[0m \u001b[0mop\u001b[0m\u001b[0;34m(\u001b[0m\u001b[0mdelegate\u001b[0m\u001b[0;34m,\u001b[0m \u001b[0mskipna\u001b[0m\u001b[0;34m=\u001b[0m\u001b[0mskipna\u001b[0m\u001b[0;34m,\u001b[0m \u001b[0;34m**\u001b[0m\u001b[0mkwds\u001b[0m\u001b[0;34m)\u001b[0m\u001b[0;34m\u001b[0m\u001b[0;34m\u001b[0m\u001b[0m\n\u001b[0m\u001b[1;32m   4817\u001b[0m \u001b[0;34m\u001b[0m\u001b[0m\n\u001b[1;32m   4818\u001b[0m     def _reindex_indexer(\n",
            "\u001b[0;32m/usr/local/lib/python3.10/dist-packages/pandas/core/nanops.py\u001b[0m in \u001b[0;36m_f\u001b[0;34m(*args, **kwargs)\u001b[0m\n\u001b[1;32m     91\u001b[0m             \u001b[0;32mtry\u001b[0m\u001b[0;34m:\u001b[0m\u001b[0;34m\u001b[0m\u001b[0;34m\u001b[0m\u001b[0m\n\u001b[1;32m     92\u001b[0m                 \u001b[0;32mwith\u001b[0m \u001b[0mnp\u001b[0m\u001b[0;34m.\u001b[0m\u001b[0merrstate\u001b[0m\u001b[0;34m(\u001b[0m\u001b[0minvalid\u001b[0m\u001b[0;34m=\u001b[0m\u001b[0;34m\"ignore\"\u001b[0m\u001b[0;34m)\u001b[0m\u001b[0;34m:\u001b[0m\u001b[0;34m\u001b[0m\u001b[0;34m\u001b[0m\u001b[0m\n\u001b[0;32m---> 93\u001b[0;31m                     \u001b[0;32mreturn\u001b[0m \u001b[0mf\u001b[0m\u001b[0;34m(\u001b[0m\u001b[0;34m*\u001b[0m\u001b[0margs\u001b[0m\u001b[0;34m,\u001b[0m \u001b[0;34m**\u001b[0m\u001b[0mkwargs\u001b[0m\u001b[0;34m)\u001b[0m\u001b[0;34m\u001b[0m\u001b[0;34m\u001b[0m\u001b[0m\n\u001b[0m\u001b[1;32m     94\u001b[0m             \u001b[0;32mexcept\u001b[0m \u001b[0mValueError\u001b[0m \u001b[0;32mas\u001b[0m \u001b[0me\u001b[0m\u001b[0;34m:\u001b[0m\u001b[0;34m\u001b[0m\u001b[0;34m\u001b[0m\u001b[0m\n\u001b[1;32m     95\u001b[0m                 \u001b[0;31m# we want to transform an object array\u001b[0m\u001b[0;34m\u001b[0m\u001b[0;34m\u001b[0m\u001b[0m\n",
            "\u001b[0;32m/usr/local/lib/python3.10/dist-packages/pandas/core/nanops.py\u001b[0m in \u001b[0;36mf\u001b[0;34m(values, axis, skipna, **kwds)\u001b[0m\n\u001b[1;32m    153\u001b[0m                     \u001b[0mresult\u001b[0m \u001b[0;34m=\u001b[0m \u001b[0malt\u001b[0m\u001b[0;34m(\u001b[0m\u001b[0mvalues\u001b[0m\u001b[0;34m,\u001b[0m \u001b[0maxis\u001b[0m\u001b[0;34m=\u001b[0m\u001b[0maxis\u001b[0m\u001b[0;34m,\u001b[0m \u001b[0mskipna\u001b[0m\u001b[0;34m=\u001b[0m\u001b[0mskipna\u001b[0m\u001b[0;34m,\u001b[0m \u001b[0;34m**\u001b[0m\u001b[0mkwds\u001b[0m\u001b[0;34m)\u001b[0m\u001b[0;34m\u001b[0m\u001b[0;34m\u001b[0m\u001b[0m\n\u001b[1;32m    154\u001b[0m             \u001b[0;32melse\u001b[0m\u001b[0;34m:\u001b[0m\u001b[0;34m\u001b[0m\u001b[0;34m\u001b[0m\u001b[0m\n\u001b[0;32m--> 155\u001b[0;31m                 \u001b[0mresult\u001b[0m \u001b[0;34m=\u001b[0m \u001b[0malt\u001b[0m\u001b[0;34m(\u001b[0m\u001b[0mvalues\u001b[0m\u001b[0;34m,\u001b[0m \u001b[0maxis\u001b[0m\u001b[0;34m=\u001b[0m\u001b[0maxis\u001b[0m\u001b[0;34m,\u001b[0m \u001b[0mskipna\u001b[0m\u001b[0;34m=\u001b[0m\u001b[0mskipna\u001b[0m\u001b[0;34m,\u001b[0m \u001b[0;34m**\u001b[0m\u001b[0mkwds\u001b[0m\u001b[0;34m)\u001b[0m\u001b[0;34m\u001b[0m\u001b[0;34m\u001b[0m\u001b[0m\n\u001b[0m\u001b[1;32m    156\u001b[0m \u001b[0;34m\u001b[0m\u001b[0m\n\u001b[1;32m    157\u001b[0m             \u001b[0;32mreturn\u001b[0m \u001b[0mresult\u001b[0m\u001b[0;34m\u001b[0m\u001b[0;34m\u001b[0m\u001b[0m\n",
            "\u001b[0;32m/usr/local/lib/python3.10/dist-packages/pandas/core/nanops.py\u001b[0m in \u001b[0;36mnew_func\u001b[0;34m(values, axis, skipna, mask, **kwargs)\u001b[0m\n\u001b[1;32m    416\u001b[0m             \u001b[0mmask\u001b[0m \u001b[0;34m=\u001b[0m \u001b[0misna\u001b[0m\u001b[0;34m(\u001b[0m\u001b[0mvalues\u001b[0m\u001b[0;34m)\u001b[0m\u001b[0;34m\u001b[0m\u001b[0;34m\u001b[0m\u001b[0m\n\u001b[1;32m    417\u001b[0m \u001b[0;34m\u001b[0m\u001b[0m\n\u001b[0;32m--> 418\u001b[0;31m         \u001b[0mresult\u001b[0m \u001b[0;34m=\u001b[0m \u001b[0mfunc\u001b[0m\u001b[0;34m(\u001b[0m\u001b[0mvalues\u001b[0m\u001b[0;34m,\u001b[0m \u001b[0maxis\u001b[0m\u001b[0;34m=\u001b[0m\u001b[0maxis\u001b[0m\u001b[0;34m,\u001b[0m \u001b[0mskipna\u001b[0m\u001b[0;34m=\u001b[0m\u001b[0mskipna\u001b[0m\u001b[0;34m,\u001b[0m \u001b[0mmask\u001b[0m\u001b[0;34m=\u001b[0m\u001b[0mmask\u001b[0m\u001b[0;34m,\u001b[0m \u001b[0;34m**\u001b[0m\u001b[0mkwargs\u001b[0m\u001b[0;34m)\u001b[0m\u001b[0;34m\u001b[0m\u001b[0;34m\u001b[0m\u001b[0m\n\u001b[0m\u001b[1;32m    419\u001b[0m \u001b[0;34m\u001b[0m\u001b[0m\n\u001b[1;32m    420\u001b[0m         \u001b[0;32mif\u001b[0m \u001b[0mdatetimelike\u001b[0m\u001b[0;34m:\u001b[0m\u001b[0;34m\u001b[0m\u001b[0;34m\u001b[0m\u001b[0m\n",
            "\u001b[0;32m/usr/local/lib/python3.10/dist-packages/pandas/core/nanops.py\u001b[0m in \u001b[0;36mnanmean\u001b[0;34m(values, axis, skipna, mask)\u001b[0m\n\u001b[1;32m    704\u001b[0m \u001b[0;34m\u001b[0m\u001b[0m\n\u001b[1;32m    705\u001b[0m     \u001b[0mcount\u001b[0m \u001b[0;34m=\u001b[0m \u001b[0m_get_counts\u001b[0m\u001b[0;34m(\u001b[0m\u001b[0mvalues\u001b[0m\u001b[0;34m.\u001b[0m\u001b[0mshape\u001b[0m\u001b[0;34m,\u001b[0m \u001b[0mmask\u001b[0m\u001b[0;34m,\u001b[0m \u001b[0maxis\u001b[0m\u001b[0;34m,\u001b[0m \u001b[0mdtype\u001b[0m\u001b[0;34m=\u001b[0m\u001b[0mdtype_count\u001b[0m\u001b[0;34m)\u001b[0m\u001b[0;34m\u001b[0m\u001b[0;34m\u001b[0m\u001b[0m\n\u001b[0;32m--> 706\u001b[0;31m     \u001b[0mthe_sum\u001b[0m \u001b[0;34m=\u001b[0m \u001b[0m_ensure_numeric\u001b[0m\u001b[0;34m(\u001b[0m\u001b[0mvalues\u001b[0m\u001b[0;34m.\u001b[0m\u001b[0msum\u001b[0m\u001b[0;34m(\u001b[0m\u001b[0maxis\u001b[0m\u001b[0;34m,\u001b[0m \u001b[0mdtype\u001b[0m\u001b[0;34m=\u001b[0m\u001b[0mdtype_sum\u001b[0m\u001b[0;34m)\u001b[0m\u001b[0;34m)\u001b[0m\u001b[0;34m\u001b[0m\u001b[0;34m\u001b[0m\u001b[0m\n\u001b[0m\u001b[1;32m    707\u001b[0m \u001b[0;34m\u001b[0m\u001b[0m\n\u001b[1;32m    708\u001b[0m     \u001b[0;32mif\u001b[0m \u001b[0maxis\u001b[0m \u001b[0;32mis\u001b[0m \u001b[0;32mnot\u001b[0m \u001b[0;32mNone\u001b[0m \u001b[0;32mand\u001b[0m \u001b[0mgetattr\u001b[0m\u001b[0;34m(\u001b[0m\u001b[0mthe_sum\u001b[0m\u001b[0;34m,\u001b[0m \u001b[0;34m\"ndim\"\u001b[0m\u001b[0;34m,\u001b[0m \u001b[0;32mFalse\u001b[0m\u001b[0;34m)\u001b[0m\u001b[0;34m:\u001b[0m\u001b[0;34m\u001b[0m\u001b[0;34m\u001b[0m\u001b[0m\n",
            "\u001b[0;32m/usr/local/lib/python3.10/dist-packages/numpy/core/_methods.py\u001b[0m in \u001b[0;36m_sum\u001b[0;34m(a, axis, dtype, out, keepdims, initial, where)\u001b[0m\n\u001b[1;32m     46\u001b[0m def _sum(a, axis=None, dtype=None, out=None, keepdims=False,\n\u001b[1;32m     47\u001b[0m          initial=_NoValue, where=True):\n\u001b[0;32m---> 48\u001b[0;31m     \u001b[0;32mreturn\u001b[0m \u001b[0mumr_sum\u001b[0m\u001b[0;34m(\u001b[0m\u001b[0ma\u001b[0m\u001b[0;34m,\u001b[0m \u001b[0maxis\u001b[0m\u001b[0;34m,\u001b[0m \u001b[0mdtype\u001b[0m\u001b[0;34m,\u001b[0m \u001b[0mout\u001b[0m\u001b[0;34m,\u001b[0m \u001b[0mkeepdims\u001b[0m\u001b[0;34m,\u001b[0m \u001b[0minitial\u001b[0m\u001b[0;34m,\u001b[0m \u001b[0mwhere\u001b[0m\u001b[0;34m)\u001b[0m\u001b[0;34m\u001b[0m\u001b[0;34m\u001b[0m\u001b[0m\n\u001b[0m\u001b[1;32m     49\u001b[0m \u001b[0;34m\u001b[0m\u001b[0m\n\u001b[1;32m     50\u001b[0m def _prod(a, axis=None, dtype=None, out=None, keepdims=False,\n",
            "\u001b[0;31mTypeError\u001b[0m: unsupported operand type(s) for +: 'int' and 'str'"
          ]
        }
      ]
    },
    {
      "cell_type": "markdown",
      "source": [
        "1)if you replace the data in the second row of 'column_2' with a string variable and then try to calculate the mean of 'column_2', you will encounter an error. This is because the presence of a string value in a numerical column prevents pandas from treating the entire column as numeric and performing mathematical calculations such as mean.\n",
        "\n"
      ],
      "metadata": {
        "id": "UPpmfpdWcX0C"
      }
    },
    {
      "cell_type": "markdown",
      "source": [
        "##Q6. What do you understand about the windows function in pandas and list the types of windows functions?"
      ],
      "metadata": {
        "id": "9_68nloQdszR"
      }
    },
    {
      "cell_type": "markdown",
      "source": [
        "- Rolling Window Functions: These functions perform calculations over a fixed-size rolling window. The window slides along the data, including a specified number of preceding or following elements. Some commonly used rolling window functions include:\n",
        "\n",
        "rolling(): Provides access to various rolling window operations such as mean, sum, standard deviation, etc.\n",
        "rolling().mean(): Calculates the rolling mean of a given window.\n",
        "rolling().sum(): Calculates the rolling sum of a given window.\n",
        "rolling().std(): Calculates the rolling standard deviation of a given window.\n",
        "rolling().min(): Calculates the rolling minimum of a given window.\n",
        "rolling().max(): Calculates the rolling maximum of a given window.\n",
        "Expanding Window Functions: These functions calculate statistics over an expanding window that starts from the beginning of the data and includes all preceding elements. The size of the window grows with each new element. Some commonly used expanding window functions include:\n",
        "\n",
        "- expanding(): Provides access to various expanding window operations such as mean, sum, standard deviation, etc.\n",
        "expanding().mean(): Calculates the expanding mean of the data.\n",
        "expanding().sum(): Calculates the expanding sum of the data.\n",
        "expanding().std(): Calculates the expanding standard deviation of the data.\n",
        "expanding().min(): Calculates the expanding minimum of the data.\n",
        "expanding().max(): Calculates the expanding maximum of the data.\n",
        "Time-based Window Functions: These functions are specifically designed for time series analysis. They allow calculations based on time intervals rather than a fixed number of data points. Some commonly used time-based window functions include:\n",
        "\n",
        "- resample(): Aggregates time series data over a specified time frequency (e.g., hourly, daily, monthly).\n",
        "rolling().window(): Allows specifying a time-based window size for rolling window calculations."
      ],
      "metadata": {
        "id": "cteCCyMzeDev"
      }
    },
    {
      "cell_type": "markdown",
      "source": [
        "##Q7. Write a code to print only the current month and year at the time of answering this question.\n",
        "[Hint: Use pandas.datetime function]"
      ],
      "metadata": {
        "id": "-YWLfAkKeZcQ"
      }
    },
    {
      "cell_type": "code",
      "source": [
        "import pandas as pd\n",
        "\n",
        "current_date = pd.datetime.now()\n",
        "current_month = current_date.month\n",
        "current_year = current_date.year\n",
        "\n",
        "print(\"Current month:\", current_month)\n",
        "print(\"Current year:\", current_year)\n"
      ],
      "metadata": {
        "colab": {
          "base_uri": "https://localhost:8080/"
        },
        "id": "J-XCTxDia9eC",
        "outputId": "2b79c6fe-e282-4d0d-87b1-439aea67e71c"
      },
      "execution_count": null,
      "outputs": [
        {
          "output_type": "stream",
          "name": "stdout",
          "text": [
            "Current month: 7\n",
            "Current year: 2023\n"
          ]
        },
        {
          "output_type": "stream",
          "name": "stderr",
          "text": [
            "<ipython-input-7-68bcdde09970>:3: FutureWarning: The pandas.datetime class is deprecated and will be removed from pandas in a future version. Import from datetime module instead.\n",
            "  current_date = pd.datetime.now()\n"
          ]
        }
      ]
    },
    {
      "cell_type": "markdown",
      "source": [
        "##Q8. Write a Python program that takes in two dates as input (in the format YYYY-MM-DD) and calculates the difference between them in days, hours, and minutes using Pandas time delta. The program should prompt the user to enter the dates and display the result."
      ],
      "metadata": {
        "id": "SEgOVzMtfQze"
      }
    },
    {
      "cell_type": "code",
      "source": [
        "import pandas as pd\n",
        "\n",
        "# Prompt the user to enter the dates\n",
        "date1 = input(\"Enter the first date (YYYY-MM-DD): \")\n",
        "date2 = input(\"Enter the second date (YYYY-MM-DD): \")\n",
        "\n",
        "# Convert the input dates to pandas DateTime objects\n",
        "date1 = pd.to_datetime(date1)\n",
        "date2 = pd.to_datetime(date2)\n",
        "\n",
        "# Calculate the difference between the dates\n",
        "time_diff = date2 - date1\n",
        "\n",
        "# Extract the number of days, hours, and minutes from the timedelta object\n",
        "days = time_diff.days\n",
        "hours = time_diff.seconds // 3600\n",
        "minutes = (time_diff.seconds % 3600) // 60\n",
        "\n",
        "# Display the result\n",
        "print(f\"The difference between {date1.date()} and {date2.date()} is {days} days, {hours} hours, and {minutes} minutes.\")\n"
      ],
      "metadata": {
        "id": "uek4IKqFepMb",
        "colab": {
          "base_uri": "https://localhost:8080/"
        },
        "outputId": "8f8df006-34d9-40e2-97cf-5baf3a6dc160"
      },
      "execution_count": 1,
      "outputs": [
        {
          "output_type": "stream",
          "name": "stdout",
          "text": [
            "Enter the first date (YYYY-MM-DD): 2023-06-23\n",
            "Enter the second date (YYYY-MM-DD): 2023-07-09\n",
            "The difference between 2023-06-23 and 2023-07-09 is 16 days, 0 hours, and 0 minutes.\n"
          ]
        }
      ]
    },
    {
      "cell_type": "markdown",
      "source": [
        "##Q9. Write a Python program that reads a CSV file containing categorical data and converts a specified column to a categorical data type. The program should prompt the user to enter the file path, column name, and category order, and then display the sorted data."
      ],
      "metadata": {
        "id": "P1sqGE9thIAd"
      }
    },
    {
      "cell_type": "code",
      "source": [
        "import pandas as pd\n",
        "\n",
        "# Prompt the user to enter the file path\n",
        "file_path = input(\"Enter the file path of the CSV file: \")\n",
        "\n",
        "# Read the CSV file\n",
        "data = pd.read_csv(file_path)\n",
        "\n",
        "# Prompt the user to enter the column name and category order\n",
        "column_name = input(\"Enter the name of the column to convert: \")\n",
        "category_order = input(\"Enter the desired category order (comma-separated values): \").split(\",\")\n",
        "\n",
        "# Convert the specified column to categorical data type\n",
        "data[column_name] = pd.Categorical(data[column_name], categories=category_order, ordered=True)\n",
        "\n",
        "# Sort the data based on the specified column\n",
        "sorted_data = data.sort_values(column_name)\n",
        "\n",
        "# Display the sorted data\n",
        "print(sorted_data)\n"
      ],
      "metadata": {
        "colab": {
          "base_uri": "https://localhost:8080/"
        },
        "id": "CacEiohmhX3d",
        "outputId": "a28af30a-72f0-4cb1-eebd-c9c59f49ae5d"
      },
      "execution_count": 6,
      "outputs": [
        {
          "output_type": "stream",
          "name": "stdout",
          "text": [
            "Enter the file path of the CSV file: /content/services.csv\n",
            "Enter the name of the column to convert: id\n",
            "Enter the desired category order (comma-separated values): location_id\n",
            "     id  location_id  program_id         accepted_payments  \\\n",
            "0   NaN            1         NaN                       NaN   \n",
            "1   NaN            2         NaN                       NaN   \n",
            "2   NaN            3         NaN                       NaN   \n",
            "3   NaN            4         NaN                       NaN   \n",
            "4   NaN            5         NaN                       NaN   \n",
            "5   NaN            6         NaN                       NaN   \n",
            "6   NaN            7         NaN                       NaN   \n",
            "7   NaN            8         NaN                       NaN   \n",
            "8   NaN            9         NaN                       NaN   \n",
            "9   NaN           10         NaN                       NaN   \n",
            "10  NaN           11         NaN                       NaN   \n",
            "11  NaN           12         NaN                       NaN   \n",
            "12  NaN           13         NaN                       NaN   \n",
            "13  NaN           14         NaN                       NaN   \n",
            "14  NaN           15         NaN                       NaN   \n",
            "15  NaN           16         NaN                       NaN   \n",
            "16  NaN           17         NaN                       NaN   \n",
            "17  NaN           18         NaN                       NaN   \n",
            "18  NaN           19         NaN                       NaN   \n",
            "19  NaN           20         NaN                       NaN   \n",
            "20  NaN           21         NaN                       NaN   \n",
            "21  NaN           22         NaN  Cash, Check, Credit Card   \n",
            "22  NaN           22         NaN                       NaN   \n",
            "\n",
            "           alternate_name                                application_process  \\\n",
            "0                     NaN                         Walk in or apply by phone.   \n",
            "1                     NaN                 Apply by phone for an appointment.   \n",
            "2                     NaN        Phone for information (403-4300 Ext. 4322).   \n",
            "3                     NaN                                    Apply by phone.   \n",
            "4                     NaN                             Phone for information.   \n",
            "5                     NaN  Walk in or apply by phone for membership appli...   \n",
            "6                     NaN  Apply by phone or be referred by a doctor, soc...   \n",
            "7                     NaN                                    Apply by phone.   \n",
            "8                     NaN  Walk in. Proof of residency in California requ...   \n",
            "9                     NaN  Walk in. Proof of California residency to rece...   \n",
            "10                    NaN  Walk in. Proof of California residency require...   \n",
            "11                    NaN  Walk in or apply by phone, email or webpage re...   \n",
            "12                    NaN  Walk in. Proof of California residency require...   \n",
            "13                    NaN  Call for appointment. Referral from human serv...   \n",
            "14                    NaN          Walk in or through other agency referral.   \n",
            "15                    NaN  Walk in. Written application, identification r...   \n",
            "16                    NaN                              Call for information.   \n",
            "17                    NaN  Call for screening appointment. Medical visits...   \n",
            "18                    NaN     Call for screening appointment (650-347-3648).   \n",
            "19                    NaN                                           Walk in.   \n",
            "20                    NaN                    By phone during business hours.   \n",
            "21  Fotos para pasaportes                  Walk in or apply by phone or mail   \n",
            "22                    NaN                  Walk in or apply by phone or mail   \n",
            "\n",
            "                                             audience  \\\n",
            "0   Older adults age 55 or over, ethnic minorities...   \n",
            "1        Residents of San Mateo County age 55 or over   \n",
            "2   Older adults age 55 or over who can benefit fr...   \n",
            "3   Parents, children, families with problems of c...   \n",
            "4   Low-income working families with children tran...   \n",
            "5                                             Any age   \n",
            "6   Older adults who have memory or sensory loss, ...   \n",
            "7   Senior citizens age 60 or over, disabled indiv...   \n",
            "8      Ethnic minorities, especially Spanish speaking   \n",
            "9                                                 NaN   \n",
            "10                                                NaN   \n",
            "11  Adults, parents, children in 1st-12th grades i...   \n",
            "12                                                NaN   \n",
            "13  Individuals or families with low or no income ...   \n",
            "14  Adult alcoholic/drug addictive men and women w...   \n",
            "15                                                NaN   \n",
            "16                                                NaN   \n",
            "17                                                NaN   \n",
            "18                                                NaN   \n",
            "19                                                NaN   \n",
            "20                                                NaN   \n",
            "21  Profit and nonprofit businesses, the public, m...   \n",
            "22  Second service and nonprofit businesses, the p...   \n",
            "\n",
            "                                          description  \\\n",
            "0   A walk-in center for older adults that provide...   \n",
            "1   Provides training and job placement to eligibl...   \n",
            "2   Offers supportive counseling services to San M...   \n",
            "3   Provides supervised visitation services and a ...   \n",
            "4   Provides fixed 8% short term loans to eligible...   \n",
            "5   A multipurpose center offering a wide variety ...   \n",
            "6   Rosener House is a day center for older adults...   \n",
            "7   Delivers a hot meal to the home of persons age...   \n",
            "8   Provides general reading material, including b...   \n",
            "9   Provides general reading and media materials, ...   \n",
            "10  Provides general reading materials, including ...   \n",
            "11  Offers an intergenerational literacy program f...   \n",
            "12  Provides general reading materials, including ...   \n",
            "13  Provides food, clothing, bus tokens and shelte...   \n",
            "14  Provides a long-term (6-12 month) residential ...   \n",
            "15  Provides emergency assistance including food a...   \n",
            "16  Provides emergency food, clothing and furnitur...   \n",
            "17  By appointment only, Project Smile provides a ...   \n",
            "18  Provides free medical and dental care to those...   \n",
            "19              no unrequired fields for this service   \n",
            "20                                just a test service   \n",
            "21  [NOTE THIS IS NOT A REAL SERVICE--THIS IS FOR ...   \n",
            "22  [NOTE THIS IS NOT A REAL ORGANIZATION--THIS IS...   \n",
            "\n",
            "                                          eligibility                  email  \\\n",
            "0   Age 55 or over for most programs, age 60 or ov...                    NaN   \n",
            "1   Age 55 or over, county resident and willing an...                    NaN   \n",
            "2         Resident of San Mateo County age 55 or over                    NaN   \n",
            "3                                                None                    NaN   \n",
            "4   Eligibility: Low-income family with legal cust...                    NaN   \n",
            "5                                                None                    NaN   \n",
            "6                                      Age 18 or over                    NaN   \n",
            "7             Homebound person unable to cook or shop                    NaN   \n",
            "8     Resident of California to obtain a library card                    NaN   \n",
            "9             Resident of California to obtain a card                    NaN   \n",
            "10  Resident of California to obtain a library car...                    NaN   \n",
            "11  English-speaking adult reading at or below 7th...                    NaN   \n",
            "12    Resident of California to obtain a library card                    NaN   \n",
            "13  None for most services. For emergency assistan...                    NaN   \n",
            "14  Age 21-60, detoxed, physically able and willin...                    NaN   \n",
            "15                      None for emergency assistance                    NaN   \n",
            "16                                Low-income families                    NaN   \n",
            "17    Low-income person without access to health care                    NaN   \n",
            "18    Low-income person without access to health care                    NaN   \n",
            "19                                                NaN                    NaN   \n",
            "20                                                NaN                    NaN   \n",
            "21                                               None  passports@example.org   \n",
            "22                                               None                    NaN   \n",
            "\n",
            "    ...                            interpretation_services  \\\n",
            "0   ...                                                NaN   \n",
            "1   ...                                                NaN   \n",
            "2   ...                                                NaN   \n",
            "3   ...                                                NaN   \n",
            "4   ...                                                NaN   \n",
            "5   ...                                                NaN   \n",
            "6   ...                                                NaN   \n",
            "7   ...                                                NaN   \n",
            "8   ...                                                NaN   \n",
            "9   ...                                                NaN   \n",
            "10  ...                                                NaN   \n",
            "11  ...                                                NaN   \n",
            "12  ...                                                NaN   \n",
            "13  ...                                                NaN   \n",
            "14  ...                                                NaN   \n",
            "15  ...                                                NaN   \n",
            "16  ...                                                NaN   \n",
            "17  ...                                                NaN   \n",
            "18  ...                                                NaN   \n",
            "19  ...                                                NaN   \n",
            "20  ...                                                NaN   \n",
            "21  ...  We offer 3-way interpretation services over th...   \n",
            "22  ...                                                NaN   \n",
            "\n",
            "                                             keywords languages  \\\n",
            "0   ADULT PROTECTION AND CARE SERVICES, Meal Sites...       NaN   \n",
            "1   EMPLOYMENT/TRAINING SERVICES, Job Development,...       NaN   \n",
            "2   Geriatric Counseling, Older Adults, Gay, Lesbi...       NaN   \n",
            "3   INDIVIDUAL AND FAMILY DEVELOPMENT SERVICES, Gr...       NaN   \n",
            "4      COMMUNITY SERVICES, Speakers, Automobile Loans       NaN   \n",
            "5   ADULT PROTECTION AND CARE SERVICES, In-Home Su...       NaN   \n",
            "6   ADULT PROTECTION AND CARE SERVICES, Adult Day ...       NaN   \n",
            "7   ADULT PROTECTION AND CARE SERVICES, Meal Sites...       NaN   \n",
            "8   EDUCATION SERVICES, Library, Libraries, Public...       NaN   \n",
            "9   EDUCATION SERVICES, Library, Libraries, Public...       NaN   \n",
            "10  EDUCATION SERVICES, Library, Libraries, Public...       NaN   \n",
            "11  EDUCATION SERVICES, Adult, Alternative, Litera...       NaN   \n",
            "12  EDUCATION SERVICES, Library, Libraries, Public...       NaN   \n",
            "13  COMMUNITY SERVICES, Interpretation/Translation...       NaN   \n",
            "14  ALCOHOLISM SERVICES, Residential Care, DRUG AB...       NaN   \n",
            "15  COMMODITY SERVICES, Clothing/Personal Items, C...       NaN   \n",
            "16  COMMODITY SERVICES, Clothing/Personal Items, C...       NaN   \n",
            "17  HEALTH SERVICES, Outpatient Care, Community Cl...       NaN   \n",
            "18  HEALTH SERVICES, Outpatient Care, Community Cl...       NaN   \n",
            "19                                                NaN       NaN   \n",
            "20                                                NaN       NaN   \n",
            "21                                    Salud, Medicina   Spanish   \n",
            "22         Ruby on Rails/Postgres/Redis, testing, wic       NaN   \n",
            "\n",
            "                                    name  \\\n",
            "0        Fair Oaks Adult Activity Center   \n",
            "1       Second Career Employment Program   \n",
            "2                 Senior Peer Counseling   \n",
            "3               Family Visitation Center   \n",
            "4      Economic Self-Sufficiency Program   \n",
            "5   Little House Recreational Activities   \n",
            "6       Rosener House Adult Day Services   \n",
            "7         Meals on Wheels - South County   \n",
            "8                       Fair Oaks Branch   \n",
            "9                           Main Library   \n",
            "10                       Schaberg Branch   \n",
            "11                          Project Read   \n",
            "12                 Redwood Shores Branch   \n",
            "13                    Redwood City Corps   \n",
            "14           Adult Rehabilitation Center   \n",
            "15                       Sunnyvale Corps   \n",
            "16     South San Francisco Citadel Corps   \n",
            "17                         Project Smile   \n",
            "18         San Mateo Free Medical Clinic   \n",
            "19             Service with blank fields   \n",
            "20       Service for Admin Test Location   \n",
            "21                       Passport Photos   \n",
            "22                  Example Service Name   \n",
            "\n",
            "                          required_documents  \\\n",
            "0                                        NaN   \n",
            "1                                        NaN   \n",
            "2                                        NaN   \n",
            "3                                        NaN   \n",
            "4                                        NaN   \n",
            "5                                        NaN   \n",
            "6                                        NaN   \n",
            "7                                        NaN   \n",
            "8                                        NaN   \n",
            "9                                        NaN   \n",
            "10                                       NaN   \n",
            "11                                       NaN   \n",
            "12                                       NaN   \n",
            "13                                       NaN   \n",
            "14                                       NaN   \n",
            "15                                       NaN   \n",
            "16                                       NaN   \n",
            "17                                       NaN   \n",
            "18                                       NaN   \n",
            "19                                       NaN   \n",
            "20                                       NaN   \n",
            "21  Government-issued picture identification   \n",
            "22                                       NaN   \n",
            "\n",
            "                            service_areas    status  \\\n",
            "0                                   Colma    active   \n",
            "1                        San Mateo County    active   \n",
            "2                        San Mateo County    active   \n",
            "3                        San Mateo County    active   \n",
            "4                        San Mateo County    active   \n",
            "5                        San Mateo County    active   \n",
            "6     Belmont, Burlingame, East Palo Alto    active   \n",
            "7                 Belmont, East Palo Alto    active   \n",
            "8                        San Mateo County    active   \n",
            "9                        San Mateo County    active   \n",
            "10                       San Mateo County    active   \n",
            "11                              Daly City    active   \n",
            "12                       San Mateo County    active   \n",
            "13    Belmont, Burlingame, East Palo Alto    active   \n",
            "14       Alameda County, San Mateo County    active   \n",
            "15                                    NaN    active   \n",
            "16  Colma, Daly City, South San Francisco    active   \n",
            "17                         East Palo Alto    active   \n",
            "18                    Belmont, Burlingame    active   \n",
            "19                                    NaN   defunct   \n",
            "20                       San Mateo County  inactive   \n",
            "21       Alameda County, San Mateo County    active   \n",
            "22       San Mateo County, Alameda County    active   \n",
            "\n",
            "                                            wait_time                 website  \\\n",
            "0                                            No wait.                     NaN   \n",
            "1                                             Varies.                     NaN   \n",
            "2                                             Varies.                     NaN   \n",
            "3                                            No wait.                     NaN   \n",
            "4                                                 NaN                     NaN   \n",
            "5                                            No wait.                     NaN   \n",
            "6                                            No wait.                     NaN   \n",
            "7                                            No wait.                     NaN   \n",
            "8                                            No wait.                     NaN   \n",
            "9                                            No wait.                     NaN   \n",
            "10                                           No wait.                     NaN   \n",
            "11  Depends on availability of tutors for small gr...                     NaN   \n",
            "12                                           No wait.                     NaN   \n",
            "13                                  Up to 20 minutes.                     NaN   \n",
            "14  Varies according to available beds for men and...                     NaN   \n",
            "15                                           No wait.                     NaN   \n",
            "16                                                NaN                     NaN   \n",
            "17                                            Varies.                     NaN   \n",
            "18                                            Varies.                     NaN   \n",
            "19                                                NaN                     NaN   \n",
            "20                                                NaN                     NaN   \n",
            "21                                No wait to 2 weeks.  http://www.example.com   \n",
            "22                                 No wait to 2 weeks  http://www.example.com   \n",
            "\n",
            "                                taxonomy_ids  \n",
            "0                                        NaN  \n",
            "1                                        NaN  \n",
            "2                                        NaN  \n",
            "3                                        NaN  \n",
            "4                                        NaN  \n",
            "5                                        NaN  \n",
            "6                                        NaN  \n",
            "7                                        NaN  \n",
            "8                                        NaN  \n",
            "9                                        NaN  \n",
            "10                                       NaN  \n",
            "11                                       NaN  \n",
            "12                                       NaN  \n",
            "13                                       NaN  \n",
            "14                                       NaN  \n",
            "15                                       NaN  \n",
            "16                                       NaN  \n",
            "17                                       NaN  \n",
            "18                                       NaN  \n",
            "19                                       NaN  \n",
            "20                                       NaN  \n",
            "21  105, 108, 108-05, 108-05-01, 111, 111-05  \n",
            "22                                       NaN  \n",
            "\n",
            "[23 rows x 22 columns]\n"
          ]
        }
      ]
    },
    {
      "cell_type": "markdown",
      "source": [
        "##Q10. Write a Python program that reads a CSV file containing sales data for different products and visualizes the data using a stacked bar chart to show the sales of each product category over time. The program should prompt the user to enter the file path and display the chart."
      ],
      "metadata": {
        "id": "EzKIdKFXiNSN"
      }
    },
    {
      "cell_type": "code",
      "source": [
        "import pandas as pd\n",
        "import matplotlib.pyplot as plt\n",
        "\n",
        "# Read the CSV file\n",
        "data = pd.read_csv(\"/content/Sales_February_2019.csv\")\n",
        "\n",
        "# Convert the 'Date' column to datetime\n",
        "data['Date'] = pd.to_datetime(data['Date'])\n",
        "\n",
        "# Group the data by 'Date' and 'Category' and calculate the total sales\n",
        "grouped_data = data.groupby(['Date', 'Category'])['Sales'].sum().unstack()\n",
        "\n",
        "# Plot the stacked bar chart\n",
        "grouped_data.plot(kind='bar', stacked=True)\n",
        "\n",
        "# Set the labels and title\n",
        "plt.xlabel('Date')\n",
        "plt.ylabel('Sales')\n",
        "plt.title('Sales by Product Category over Time')\n",
        "\n",
        "# Display the chart\n",
        "plt.show()\n"
      ],
      "metadata": {
        "colab": {
          "base_uri": "https://localhost:8080/",
          "height": 604
        },
        "id": "gHGvmFBRksyp",
        "outputId": "9e7ee124-8003-46f3-fdc5-a95a78f19d95"
      },
      "execution_count": 53,
      "outputs": [
        {
          "output_type": "display_data",
          "data": {
            "text/plain": [
              "<Figure size 640x480 with 1 Axes>"
            ],
            "image/png": "[encoded data removed]"
          },
          "metadata": {}
        }
      ]
    },
    {
      "cell_type": "markdown",
      "source": [
        "#Q11. You are given a CSV file containing student data that includes the student ID and their test score. Write a Python program that reads the CSV file, calculates the mean, median, and mode of the test scores, and displays the results in a table."
      ],
      "metadata": {
        "id": "k5ccKvSYsgtx"
      }
    },
    {
      "cell_type": "code",
      "source": [
        "import pandas as pd\n",
        "\n",
        "data = pd.read_csv('/content/modified_file.csv')\n",
        "\n",
        "# Calculate the mean, median, and mode of the test scores\n",
        "mean_score = data['Test Score'].mean()\n",
        "median_score = data['Test Score'].median()\n",
        "mode_scores = data['Test Score'].mode()\n",
        "\n",
        "# Create a table to display the results\n",
        "results_table = pd.DataFrame({\n",
        "    'Statistic': ['Mean', 'Median', 'Mode'],\n",
        "    'Value': [mean_score, median_score, ', '.join(map(str, mode_scores))]\n",
        "})\n",
        "\n",
        "# Display the table\n",
        "print(results_table)\n",
        "\n"
      ],
      "metadata": {
        "colab": {
          "base_uri": "https://localhost:8080/"
        },
        "id": "-wn-hAQDkglB",
        "outputId": "97b247d0-0e2c-4ff1-d9ee-da7df40dc130"
      },
      "execution_count": 46,
      "outputs": [
        {
          "output_type": "stream",
          "name": "stdout",
          "text": [
            "  Statistic      Value\n",
            "0      Mean  66.749355\n",
            "1    Median       67.0\n",
            "2      Mode         68\n"
          ]
        }
      ]
    },
    {
      "cell_type": "code",
      "source": [
        "\n"
      ],
      "metadata": {
        "id": "KwCSlyCJwvmf"
      },
      "execution_count": 43,
      "outputs": []
    },
    {
      "cell_type": "code",
      "source": [],
      "metadata": {
        "id": "Ou6KLvuOxKAn"
      },
      "execution_count": null,
      "outputs": []
    }
  ]
}