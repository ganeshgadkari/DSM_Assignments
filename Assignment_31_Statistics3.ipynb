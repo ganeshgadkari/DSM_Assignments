{
  "nbformat": 4,
  "nbformat_minor": 0,
  "metadata": {
    "colab": {
      "provenance": []
    },
    "kernelspec": {
      "name": "python3",
      "display_name": "Python 3"
    },
    "language_info": {
      "name": "python"
    }
  },
  "cells": [
    {
      "cell_type": "markdown",
      "source": [
        "#Q1: What is Estimation Statistics? Explain point estimate and interval estimate.\n",
        "Ans -Estimation statistics is a branch of statistics that deals with estimating population parameters based on sample data. When it is not feasible or practical to collect data from an entire population, researchers often take a sample from the population and use the information from the sample to make inferences about the entire population. Estimation allows us to quantify the uncertainty associated with our estimates.\n",
        "\n",
        "There are two common types of estimation in statistics:\n",
        "\n",
        "Point Estimate:\n",
        "A point estimate is a single value that is used to estimate the population parameter of interest. It is derived from the sample data and is intended to be the best guess of the true population parameter. For example, if we want to estimate the average height of all students in a school, we can take a sample of students' heights and calculate the average of those heights. The resulting value would be the point estimate of the population parameter (average height).\n",
        "However, point estimates do not provide any information about the accuracy or reliability of the estimate. To address this, we use interval estimates.\n",
        "\n",
        "Interval Estimate:\n",
        "An interval estimate provides a range of values within which the population parameter is likely to lie, along with a level of confidence associated with that range. It is also known as a confidence interval. A confidence interval is constructed around the point estimate, and it provides a measure of the uncertainty in the estimation process.\n",
        "For example, instead of providing a single value as the estimate of the average height of students, we might say, \"The average height of students is 165 cm, with a 95% confidence interval of 160 cm to 170 cm.\" This means we are 95% confident that the true average height of all students in the school lies within the range of 160 cm to 170 cm.\n",
        "\n",
        "The width of the confidence interval depends on the sample size and the level of confidence chosen. A higher level of confidence will result in a wider interval, indicating greater certainty but with a larger range of possible values.\n"
      ],
      "metadata": {
        "id": "PN-By57dNpW8"
      }
    },
    {
      "cell_type": "markdown",
      "source": [
        "#Q2. Write a Python function to estimate the population mean using a sample mean and standard deviation."
      ],
      "metadata": {
        "id": "Bzmm2BlTOVny"
      }
    },
    {
      "cell_type": "code",
      "execution_count": null,
      "metadata": {
        "colab": {
          "base_uri": "https://localhost:8080/"
        },
        "id": "kdfbvrPBNS4p",
        "outputId": "c1cbe62b-ac7a-4ee7-b154-396016890db2"
      },
      "outputs": [
        {
          "output_type": "stream",
          "name": "stdout",
          "text": [
            "Estimated Population Mean: 150\n",
            "95% Confidence Interval: (147.22814141774873, 152.77185858225127)\n"
          ]
        }
      ],
      "source": [
        "import math\n",
        "\n",
        "def estimate_population_mean(sample_mean, sample_std_dev, sample_size):\n",
        "    # Check if the sample size is at least 2 (for unbiased estimate of population std deviation)\n",
        "    if sample_size < 2:\n",
        "        raise ValueError(\"Sample size should be at least 2 for estimating population mean.\")\n",
        "\n",
        "    # Calculate the standard error of the mean\n",
        "    standard_error = sample_std_dev / math.sqrt(sample_size)\n",
        "\n",
        "    # Calculate the margin of error (using a Z-score for 95% confidence level)\n",
        "    z_score_95 = 1.96  # For a 95% confidence level\n",
        "    margin_of_error = z_score_95 * standard_error\n",
        "\n",
        "    # Calculate the lower and upper bounds of the confidence interval\n",
        "    lower_bound = sample_mean - margin_of_error\n",
        "    upper_bound = sample_mean + margin_of_error\n",
        "\n",
        "    # Return the estimated population mean and the confidence interval\n",
        "    return sample_mean, (lower_bound, upper_bound)\n",
        "\n",
        "# Example usage:\n",
        "sample_mean = 150\n",
        "sample_std_dev = 10\n",
        "sample_size = 50\n",
        "\n",
        "estimated_mean, confidence_interval = estimate_population_mean(sample_mean, sample_std_dev, sample_size)\n",
        "print(\"Estimated Population Mean:\", estimated_mean)\n",
        "print(\"95% Confidence Interval:\", confidence_interval)\n"
      ]
    },
    {
      "cell_type": "markdown",
      "source": [
        "#Q3: What is Hypothesis testing? Why is it used? State the importance of Hypothesis testing.\n",
        "Ans-\n",
        "\n",
        "Hypothesis testing is a statistical method used to make inferences about a population parameter based on a sample of data. It involves formulating two competing statements about the population, known as the null hypothesis (H0) and the alternative hypothesis (H1). The null hypothesis represents the status quo or no effect, while the alternative hypothesis represents the effect or change that researchers are interested in investigating.\n",
        "\n",
        "The primary goal of hypothesis testing is to assess the evidence present in the sample data and determine whether there is enough evidence to reject the null hypothesis in favor of the alternative hypothesis. This process allows researchers to draw conclusions and make decisions based on the available evidence.\n",
        "\n",
        "The importance of hypothesis testing lies in several aspects:\n",
        "\n",
        "Objective Decision Making: Hypothesis testing provides a structured and objective approach to decision-making based on data. It allows researchers to determine whether an observed effect is statistically significant or simply due to random chance.\n",
        "\n",
        "Scientific Validity: Hypothesis testing is an essential tool in the scientific method. It helps researchers validate or refute hypotheses and theories, contributing to the accumulation of knowledge in various fields of study.\n",
        "\n",
        "Inference about Populations: With hypothesis testing, researchers can make inferences about the broader population from which a sample was drawn. This allows for generalization of results beyond the sample data.\n",
        "\n",
        "Comparing Treatments or Interventions: In fields like medicine and social sciences, hypothesis testing is crucial for comparing the effectiveness of different treatments or interventions. It helps determine whether one treatment is significantly better than another.\n",
        "\n",
        "Quality Control and Process Improvement: In industrial settings, hypothesis testing is used to monitor and improve the quality of products or processes by identifying potential issues or improvements.\n",
        "\n",
        "Business and Marketing Decisions: Hypothesis testing is employed in business and marketing to assess the impact of strategies, pricing changes, or advertising campaigns.\n",
        "\n",
        "Risk Assessment: Hypothesis testing helps quantify the level of risk associated with a particular decision or action.\n",
        "\n",
        "Legal and Policy Decisions: In legal settings, hypothesis testing can be used to determine guilt or innocence, and in policy-making, it can inform decisions based on empirical evidence."
      ],
      "metadata": {
        "id": "m6zbaTXsL45o"
      }
    },
    {
      "cell_type": "markdown",
      "source": [
        "#Q4. Create a hypothesis that states whether the average weight of male college students is greater than the average weight of female college students.\n",
        "Ans -\n",
        "Hypothesis:\n",
        "Null Hypothesis (H0): The average weight of male college students is not greater than the average weight of female college students.\n",
        "Alternative Hypothesis (H1): The average weight of male college students is greater than the average weight of female college students.\n",
        "\n",
        "Symbolically, we can represent the hypotheses as follows:\n",
        "\n",
        "H0: μ_male <= μ_female\n",
        "H1: μ_male > μ_female\n",
        "\n",
        "Where:\n",
        "μ_male represents the population mean weight of male college students.\n",
        "μ_female represents the population mean weight of female college students.\n",
        "\n",
        "In this hypothesis, we are testing whether there is enough evidence to support the claim that male college students, on average, have a greater weight than female college students. To confirm or refute this claim, we would need to collect data on the weights of both male and female college students and perform the appropriate statistical analysis, such as a t-test or z-test, to determine if the evidence supports rejecting the null hypothesis in favor of the alternative hypothesis.\n",
        "\n",
        "\n",
        "\n",
        "\n",
        "\n"
      ],
      "metadata": {
        "id": "RXrR4yhJMhr_"
      }
    },
    {
      "cell_type": "markdown",
      "source": [
        "#Q5. Write a Python script to conduct a hypothesis test on the difference between two population means, given a sample from each population.\n",
        "Ans -\n"
      ],
      "metadata": {
        "id": "uZN5LqjIN1t0"
      }
    },
    {
      "cell_type": "code",
      "source": [
        "import numpy as np\n",
        "from scipy.stats import ttest_ind\n",
        "\n",
        "def hypothesis_test(sample1, sample2, alpha=0.05):\n",
        "    # Perform the independent two-sample t-test\n",
        "    t_stat, p_value = ttest_ind(sample1, sample2)\n",
        "\n",
        "    # Check if the p-value is less than the significance level (alpha)\n",
        "    if p_value < alpha:\n",
        "        print(\"Reject the null hypothesis.\")\n",
        "        print(\"There is enough evidence to support the alternative hypothesis.\")\n",
        "    else:\n",
        "        print(\"Fail to reject the null hypothesis.\")\n",
        "        print(\"There is not enough evidence to support the alternative hypothesis.\")\n",
        "\n",
        "    print(f\"T-statistic: {t_stat}\")\n",
        "    print(f\"P-value: {p_value}\")\n",
        "\n",
        "# Example usage:\n",
        "sample_male = np.array([75, 80, 85, 78, 82, 79, 88, 81, 77, 84])\n",
        "sample_female = np.array([65, 70, 72, 68, 75, 71, 67, 73, 69, 74])\n",
        "\n",
        "hypothesis_test(sample_male, sample_female)\n"
      ],
      "metadata": {
        "id": "9h7vNyzuOZG0",
        "colab": {
          "base_uri": "https://localhost:8080/"
        },
        "outputId": "e367f319-3f8c-4376-cc60-96d3650d4a1e"
      },
      "execution_count": 1,
      "outputs": [
        {
          "output_type": "stream",
          "name": "stdout",
          "text": [
            "Reject the null hypothesis.\n",
            "There is enough evidence to support the alternative hypothesis.\n",
            "T-statistic: 6.521585379950272\n",
            "P-value: 3.9424655097908595e-06\n"
          ]
        }
      ]
    },
    {
      "cell_type": "markdown",
      "source": [
        "#Q6: What is a null and alternative hypothesis? Give some examples.\n",
        "Ans-\n",
        "In statistical hypothesis testing, the null hypothesis (H0) and alternative hypothesis (H1) are two competing statements about a population parameter that we want to make inferences about based on sample data. These hypotheses help us assess whether there is enough evidence to support a particular claim or effect in the population.\n",
        "\n",
        "Example 1 (Mean Comparison):\n",
        "Null Hypothesis (H0): The average test scores of students who use a new study method are the same as the average test scores of students who use the traditional study method.\n",
        "Alternative Hypothesis (H1): The average test scores of students who use a new study method are different from the average test scores of students who use the traditional study method.\n",
        "In this example, the null hypothesis states that there is no difference in the average test scores between the two study methods, while the alternative hypothesis suggests that there is a significant difference.\n",
        "\n",
        "Example 2 (Proportion Comparison):\n",
        "Null Hypothesis (H0): The proportion of customers who prefer Product A is the same as the proportion of customers who prefer Product B.\n",
        "Alternative Hypothesis (H1): The proportion of customers who prefer Product A is different from the proportion of customers who prefer Product B.\n",
        "In this case, the null hypothesis asserts that the two products are equally preferred by customers, while the alternative hypothesis proposes that there is a difference in preference.\n",
        "\n",
        "Example 3 (Correlation):\n",
        "Null Hypothesis (H0): There is no correlation between the amount of time spent studying and the exam scores.\n",
        "Alternative Hypothesis (H1): There is a significant correlation between the amount of time spent studying and the exam scores.\n",
        "Here, the null hypothesis claims that there is no relationship between study time and exam scores, while the alternative hypothesis suggests that there is a significant correlation.\n",
        "\n",
        "Example 4 (Medicine and Treatment):\n",
        "Null Hypothesis (H0): The new drug has no effect on reducing blood pressure.\n",
        "Alternative Hypothesis (H1): The new drug significantly reduces blood pressure.\n",
        "In this example, the null hypothesis states that the new drug has no effect on blood pressure, while the alternative hypothesis claims that the new drug does have a significant effect."
      ],
      "metadata": {
        "id": "eLEajFRiOXJ5"
      }
    },
    {
      "cell_type": "markdown",
      "source": [
        "#Q7: Write down the steps involved in hypothesis testing.\n",
        "Ans -\n",
        " - State the Hypotheses: Clearly define the null hypothesis (H0) and the alternative hypothesis (H1) based on the research question or claim being investigated. The null hypothesis typically represents the status quo or no effect, while the alternative hypothesis represents the effect or change that the researcher is interested in testing.\n",
        "\n",
        " - Set the Significance Level (Alpha): Choose a significance level (alpha) that determines the threshold for rejecting the null hypothesis. Commonly used values for alpha are 0.05 (5%) or 0.01 (1%), representing the acceptable probability of making a Type I error (incorrectly rejecting a true null hypothesis).\n",
        "\n",
        " - Select the Test Statistic: Choose an appropriate test statistic based on the nature of the data and the hypotheses being tested. The choice of test statistic depends on factors such as sample size, the type of data (e.g., numerical or categorical), and the population parameter being investigated (e.g., mean, proportion, correlation).\n",
        "\n",
        " - Collect and Analyze Data: Gather data through observation or experimentation. Calculate the sample statistic (e.g., sample mean, sample proportion) from the collected data.\n",
        "\n",
        " - Compute the Test Statistic: Calculate the value of the chosen test statistic based on the sample data and the formula for the selected test. The test statistic quantifies the discrepancy between the sample data and what is expected under the null hypothesis.\n",
        "\n",
        " - Determine the Critical Region/Critical Values: Identify the critical region (also known as the rejection region) in the distribution of the test statistic. It represents the extreme values of the test statistic that, if observed, would lead to the rejection of the null hypothesis. Alternatively, critical values can be used to compare with the test statistic to determine if the null hypothesis should be rejected.\n",
        "\n",
        " - Compute the P-value: The p-value is the probability of obtaining a test statistic as extreme as the one observed, assuming the null hypothesis is true. Calculate the p-value corresponding to the test statistic. A small p-value indicates strong evidence against the null hypothesis, while a large p-value suggests weak evidence against it.\n",
        "\n",
        " - Make a Decision: Compare the calculated p-value with the chosen significance level (alpha). If the p-value is less than or equal to alpha, reject the null hypothesis in favor of the alternative hypothesis. If the p-value is greater than alpha, fail to reject the null hypothesis.\n",
        "\n",
        " - Interpret the Results: Communicate the results of the hypothesis test in the context of the research question. Explain whether there is enough evidence to support the alternative hypothesis or if there is insufficient evidence to reject the null hypothesis."
      ],
      "metadata": {
        "id": "k_fwjNycOplT"
      }
    },
    {
      "cell_type": "markdown",
      "source": [
        "#Q8. Define p-value and explain its significance in hypothesis testing.\n",
        "Ans -\n",
        "\n",
        "The p-value, short for \"probability value,\" is a crucial concept in hypothesis testing. It quantifies the strength of evidence against the null hypothesis (H0) based on the observed sample data. Specifically, the p-value represents the probability of obtaining a test statistic as extreme as the one observed, or even more extreme, if the null hypothesis is true.\n",
        "\n",
        "In hypothesis testing, we start with the assumption that the null hypothesis is true. We collect sample data and calculate the test statistic, which measures how far the observed data deviate from what is expected under the null hypothesis. The p-value then tells us how likely it is to see such extreme results, assuming that the null hypothesis is correct.\n",
        "\n",
        "The significance of the p-value in hypothesis testing is as follows:\n",
        "\n",
        "A small p-value (typically less than the chosen significance level, alpha) indicates strong evidence against the null hypothesis. It suggests that the observed data are highly unlikely to occur if the null hypothesis were true. In this case, we reject the null hypothesis in favor of the alternative hypothesis (H1).\n",
        "\n",
        "A large p-value (greater than alpha) suggests weak evidence against the null hypothesis. It indicates that the observed data are reasonably likely to occur even if the null hypothesis were true. In this situation, we fail to reject the null hypothesis, meaning we do not have enough evidence to support the alternative hypothesis.\n",
        "\n",
        "The p-value does not directly tell us the probability that either the null hypothesis or the alternative hypothesis is true. It only informs us about the probability of observing the data given the null hypothesis.\n",
        "\n",
        "The significance level (alpha) is predetermined before conducting the hypothesis test. It represents the threshold for how much evidence against the null hypothesis we require to reject it. Commonly used significance levels are 0.05 (5%) and 0.01 (1%).\n",
        "\n",
        "It's essential to interpret the p-value correctly. A small p-value does not prove the alternative hypothesis or establish the practical importance of the effect; it only indicates that the observed data are inconsistent with the null hypothesis."
      ],
      "metadata": {
        "id": "_Y4KDZqxPA8S"
      }
    },
    {
      "cell_type": "markdown",
      "source": [
        "#Q9. Generate a Student's t-distribution plot using Python's matplotlib library, with the degrees of freedom parameter set to 10.\n",
        "Ans-\n"
      ],
      "metadata": {
        "id": "N2utuuGrPU6o"
      }
    },
    {
      "cell_type": "code",
      "source": [
        "import numpy as np\n",
        "import matplotlib.pyplot as plt\n",
        "from scipy.stats import t\n",
        "\n",
        "# Set the degrees of freedom\n",
        "degrees_of_freedom = 10\n",
        "\n",
        "# Generate data points from the Student's t-distribution\n",
        "x = np.linspace(-4, 4, 1000)  # Range of x values for the plot\n",
        "t_dist = np.random.standard_t(df=degrees_of_freedom, size=10000)  # Sample from t-distribution\n",
        "\n",
        "# Plot the Student's t-distribution\n",
        "plt.figure(figsize=(8, 6))\n",
        "plt.hist(t_dist, bins=30, density=True, alpha=0.6, color='blue', label='t-distribution (df=10)')\n",
        "plt.plot(x, t.pdf(x, df=degrees_of_freedom), 'r-', lw=2, label='t-distribution pdf')\n",
        "plt.xlabel('x')\n",
        "plt.ylabel('Probability Density')\n",
        "plt.title(\"Student's t-distribution with df=10\")\n",
        "plt.legend()\n",
        "plt.grid(True)\n",
        "plt.show()\n"
      ],
      "metadata": {
        "colab": {
          "base_uri": "https://localhost:8080/",
          "height": 564
        },
        "id": "k5KD4l0QOSEh",
        "outputId": "33c26c7e-948c-435e-be32-9c476936af3c"
      },
      "execution_count": 6,
      "outputs": [
        {
          "output_type": "display_data",
          "data": {
            "text/plain": [
              "<Figure size 800x600 with 1 Axes>"
            ],
            "image/png": "[encoded data removed]"
          },
          "metadata": {}
        }
      ]
    },
    {
      "cell_type": "markdown",
      "source": [
        "#Q10. Write a Python program to calculate the two-sample t-test for independent samples, given two random samples of equal size and a null hypothesis that the population means are equal.\n",
        "Ans -\n"
      ],
      "metadata": {
        "id": "fOqDpJOTQHqT"
      }
    },
    {
      "cell_type": "code",
      "source": [
        "import numpy as np\n",
        "from scipy.stats import ttest_ind\n",
        "\n",
        "def two_sample_t_test(sample1, sample2, alpha=0.05):\n",
        "    # Perform the independent two-sample t-test\n",
        "    t_stat, p_value = ttest_ind(sample1, sample2)\n",
        "\n",
        "    # Compare the p-value with the significance level (alpha)\n",
        "    if p_value < alpha:\n",
        "        print(\"Reject the null hypothesis.\")\n",
        "        print(\"There is enough evidence to support that the population means are not equal.\")\n",
        "    else:\n",
        "        print(\"Fail to reject the null hypothesis.\")\n",
        "        print(\"There is not enough evidence to conclude that the population means are different.\")\n",
        "\n",
        "    print(f\"T-statistic: {t_stat}\")\n",
        "    print(f\"P-value: {p_value}\")\n",
        "\n",
        "# Example usage with two random samples\n",
        "sample1 = np.random.normal(loc=30, scale=5, size=100)\n",
        "sample2 = np.random.normal(loc=32, scale=5, size=100)\n",
        "\n",
        "two_sample_t_test(sample1, sample2)\n"
      ],
      "metadata": {
        "colab": {
          "base_uri": "https://localhost:8080/"
        },
        "id": "wzXAimTMPpbr",
        "outputId": "b6a82b18-6fb3-49f8-beae-fae820eea228"
      },
      "execution_count": 7,
      "outputs": [
        {
          "output_type": "stream",
          "name": "stdout",
          "text": [
            "Reject the null hypothesis.\n",
            "There is enough evidence to support that the population means are not equal.\n",
            "T-statistic: -2.3454268348902163\n",
            "P-value: 0.019994863988579012\n"
          ]
        }
      ]
    },
    {
      "cell_type": "markdown",
      "source": [
        "#Q11: What is Student’s t distribution? When to use the t-Distribution.\n",
        "Ans -\n",
        "Student's t-distribution, often referred to simply as the t-distribution, is a probability distribution that is used in statistics for making inferences about population parameters when the sample size is small and the population standard deviation is unknown. It is a family of distributions, with different shapes determined by a parameter called degrees of freedom (df).\n",
        "\n",
        "The t-distribution closely resembles the standard normal (Z) distribution but has heavier tails. As the sample size increases, the t-distribution approaches the standard normal distribution.\n",
        "\n",
        "When to use the t-distribution:\n",
        "\n",
        "Small Sample Size: The t-distribution is appropriate when the sample size is small (typically less than 30) and the population standard deviation is unknown. In such cases, using the standard normal distribution (Z-distribution) would be inappropriate due to the uncertainty associated with estimating the population standard deviation.\n",
        "\n",
        "Unknown Population Variance: When the population standard deviation is unknown, the sample standard deviation is used as an estimate. The t-distribution accounts for the additional uncertainty in estimating the standard deviation, making it a suitable choice when population parameters are not fully known.\n",
        "\n",
        "Hypothesis Testing: The t-distribution is commonly used in hypothesis testing for comparing sample means, proportion differences, and regression coefficients, among other parameters, especially when the sample size is small.\n",
        "\n",
        "Confidence Intervals: When calculating confidence intervals for population parameters (e.g., population mean), the t-distribution is used to account for the uncertainty in the sample standard deviation.\n",
        "\n",
        "Data is Approximately Normally Distributed: The t-distribution assumes that the data is approximately normally distributed. It is robust to small deviations from normality, but if the data significantly deviates from normality, other non-parametric tests may be more appropriate."
      ],
      "metadata": {
        "id": "7-c5at6oQXdI"
      }
    },
    {
      "cell_type": "markdown",
      "source": [
        "#Q12: What is t-statistic? State the formula for t-statistic.\n",
        "Ans -\n",
        "The t-statistic is a measure used in hypothesis testing to quantify how much the sample data deviates from what is expected under the null hypothesis. It measures the difference between the sample estimate (e.g., sample mean) and the hypothesized population parameter (e.g., population mean), normalized by the standard error of the sample estimate.\n",
        "\n",
        "The formula for the t-statistic depends on the parameter being tested and the test scenario (e.g., one-sample t-test, two-sample t-test). Here are the formulas for two common scenarios:\n",
        "\n",
        "One-Sample t-test:\n",
        "The one-sample t-test is used to test whether the mean of a single sample is significantly different from a known or hypothesized population mean (μ).\n",
        "t = (x̄ - μ) / (s / √n)\n",
        "\n",
        "Where:\n",
        "t = t-statistic\n",
        "x̄ = Sample mean\n",
        "μ = Hypothesized population mean (under the null hypothesis)\n",
        "s = Sample standard deviation\n",
        "n = Sample size\n",
        "\n",
        "Independent Two-Sample t-test:\n",
        "The independent two-sample t-test is used to compare the means of two independent samples to determine if they come from populations with equal means.\n",
        "t = (x̄1 - x̄2) / √((s1^2 / n1) + (s2^2 / n2))\n",
        "\n",
        "Where:\n",
        "t = t-statistic\n",
        "x̄1, x̄2 = Sample means of two independent samples\n",
        "s1, s2 = Sample standard deviations of the two samples\n",
        "n1, n2 = Sample sizes of the two samples"
      ],
      "metadata": {
        "id": "_qOe5H2kQi_-"
      }
    },
    {
      "cell_type": "markdown",
      "source": [
        "#Q13. A coffee shop owner wants to estimate the average daily revenue for their shop. They take a random sample of 50 days and find the sample mean revenue to be $500 with a standard deviation of $50. Estimate the population mean revenue with a 95% confidence interval.\n",
        "Ans -\n"
      ],
      "metadata": {
        "id": "_OQZY5H4QyNO"
      }
    },
    {
      "cell_type": "code",
      "source": [
        "import numpy as np\n",
        "from scipy.stats import t\n",
        "\n",
        "# Given data\n",
        "sample_mean = 500\n",
        "sample_std_dev = 50\n",
        "sample_size = 50\n",
        "confidence_level = 0.95\n",
        "\n",
        "# Step 1: Calculate the critical value\n",
        "degrees_of_freedom = sample_size - 1\n",
        "critical_value = t.ppf(1 - (1 - confidence_level) / 2, df=degrees_of_freedom)\n",
        "\n",
        "# Step 2: Calculate the standard error of the mean\n",
        "standard_error = sample_std_dev / np.sqrt(sample_size)\n",
        "\n",
        "# Step 3: Calculate the margin of error\n",
        "margin_of_error = critical_value * standard_error\n",
        "\n",
        "# Step 4: Calculate the confidence interval\n",
        "lower_bound = sample_mean - margin_of_error\n",
        "upper_bound = sample_mean + margin_of_error\n",
        "\n",
        "# Print the results\n",
        "print(f\"Sample Mean: ${sample_mean}\")\n",
        "print(f\"Standard Error: ${standard_error:.2f}\")\n",
        "print(f\"Margin of Error: ${margin_of_error:.2f}\")\n",
        "print(f\"95% Confidence Interval: (${lower_bound:.2f}, ${upper_bound:.2f})\")\n"
      ],
      "metadata": {
        "colab": {
          "base_uri": "https://localhost:8080/"
        },
        "id": "46eOjdPUQWYu",
        "outputId": "dcd40939-bd7c-40e1-ee02-fc0765e4d644"
      },
      "execution_count": 8,
      "outputs": [
        {
          "output_type": "stream",
          "name": "stdout",
          "text": [
            "Sample Mean: $500\n",
            "Standard Error: $7.07\n",
            "Margin of Error: $14.21\n",
            "95% Confidence Interval: ($485.79, $514.21)\n"
          ]
        }
      ]
    },
    {
      "cell_type": "markdown",
      "source": [
        "#Q14. A researcher hypothesizes that a new drug will decrease blood pressure by 10 mmHg. They conduct a clinical trial with 100 patients and find that the sample mean decrease in blood pressure is 8 mmHg with a standard deviation of 3 mmHg. Test the hypothesis with a significance level of 0.05.\n",
        "Ans -\n"
      ],
      "metadata": {
        "id": "un2D6FGUQ_ea"
      }
    },
    {
      "cell_type": "code",
      "source": [
        "import numpy as np\n",
        "from scipy.stats import t\n",
        "\n",
        "# Given data\n",
        "sample_mean = 500\n",
        "sample_std_dev = 50\n",
        "sample_size = 50\n",
        "confidence_level = 0.95\n",
        "\n",
        "# Step 1: Calculate the critical value\n",
        "degrees_of_freedom = sample_size - 1\n",
        "critical_value = t.ppf(1 - (1 - confidence_level) / 2, df=degrees_of_freedom)\n",
        "\n",
        "# Step 2: Calculate the standard error of the mean\n",
        "standard_error = sample_std_dev / np.sqrt(sample_size)\n",
        "\n",
        "# Step 3: Calculate the margin of error\n",
        "margin_of_error = critical_value * standard_error\n",
        "\n",
        "# Step 4: Calculate the confidence interval\n",
        "lower_bound = sample_mean - margin_of_error\n",
        "upper_bound = sample_mean + margin_of_error\n",
        "\n",
        "# Print the results\n",
        "print(f\"Sample Mean: ${sample_mean}\")\n",
        "print(f\"Standard Error: ${standard_error:.2f}\")\n",
        "print(f\"Margin of Error: ${margin_of_error:.2f}\")\n",
        "print(f\"95% Confidence Interval: (${lower_bound:.2f}, ${upper_bound:.2f})\")\n"
      ],
      "metadata": {
        "colab": {
          "base_uri": "https://localhost:8080/"
        },
        "id": "ceGeA4BMRGFF",
        "outputId": "64564b23-d8dc-4bd0-e643-62e78f602843"
      },
      "execution_count": 9,
      "outputs": [
        {
          "output_type": "stream",
          "name": "stdout",
          "text": [
            "Sample Mean: $500\n",
            "Standard Error: $7.07\n",
            "Margin of Error: $14.21\n",
            "95% Confidence Interval: ($485.79, $514.21)\n"
          ]
        }
      ]
    },
    {
      "cell_type": "markdown",
      "source": [
        "#Q15. An electronics company produces a certain type of product with a mean weight of 5 pounds and a standard deviation of 0.5 pounds. A random sample of 25 products is taken, and the sample mean weight is found to be 4.8 pounds. Test the hypothesis that the true mean weight of the products is less than 5 pounds with a significance level of 0.01.\n",
        "Ans -"
      ],
      "metadata": {
        "id": "7NiLE_l5RPC3"
      }
    },
    {
      "cell_type": "code",
      "source": [
        "import numpy as np\n",
        "from scipy.stats import t\n",
        "\n",
        "# Given data\n",
        "sample_mean = 4.8\n",
        "hypothesized_mean = 5\n",
        "sample_std_dev = 0.5\n",
        "sample_size = 25\n",
        "significance_level = 0.01\n",
        "\n",
        "# Calculate the t-statistic\n",
        "t_statistic = (sample_mean - hypothesized_mean) / (sample_std_dev / np.sqrt(sample_size))\n",
        "\n",
        "# Calculate the critical value for a left-tailed test with 25 - 1 = 24 degrees of freedom\n",
        "critical_value = t.ppf(significance_level, df=sample_size - 1)\n",
        "\n",
        "# Compare the t-statistic with the critical value and perform the hypothesis test\n",
        "if t_statistic < critical_value:\n",
        "    print(\"Reject the null hypothesis.\")\n",
        "    print(\"There is enough evidence to support that the true mean weight of the products is less than 5 pounds.\")\n",
        "else:\n",
        "    print(\"Fail to reject the null hypothesis.\")\n",
        "    print(\"There is not enough evidence to conclude that the true mean weight of the products is less than 5 pounds.\")\n",
        "\n",
        "print(f\"T-statistic: {t_statistic:.2f}\")\n",
        "print(f\"Critical Value: {critical_value:.2f}\")\n"
      ],
      "metadata": {
        "colab": {
          "base_uri": "https://localhost:8080/"
        },
        "id": "GNvWY4YYRjrG",
        "outputId": "274d849f-d9a1-4fd4-8e2b-b6245429a5b9"
      },
      "execution_count": 10,
      "outputs": [
        {
          "output_type": "stream",
          "name": "stdout",
          "text": [
            "Fail to reject the null hypothesis.\n",
            "There is not enough evidence to conclude that the true mean weight of the products is less than 5 pounds.\n",
            "T-statistic: -2.00\n",
            "Critical Value: -2.49\n"
          ]
        }
      ]
    },
    {
      "cell_type": "markdown",
      "source": [
        "#Q16. Two groups of students are given different study materials to prepare for a test. The first group (n1 = 30) has a mean score of 80 with a standard deviation of 10, and the second group (n2 = 40) has a mean score of 75 with a standard deviation of 8. Test the hypothesis that the population means for the two groups are equal with a significance level of 0.01.\n",
        "Ans -"
      ],
      "metadata": {
        "id": "Lxs1-btaRbyU"
      }
    },
    {
      "cell_type": "code",
      "source": [
        "import numpy as np\n",
        "from scipy.stats import t\n",
        "\n",
        "# Given data for Group 1\n",
        "mean_group1 = 80\n",
        "std_dev_group1 = 10\n",
        "sample_size_group1 = 30\n",
        "\n",
        "# Given data for Group 2\n",
        "mean_group2 = 75\n",
        "std_dev_group2 = 8\n",
        "sample_size_group2 = 40\n",
        "\n",
        "# Hypothesized mean difference (under the null hypothesis)\n",
        "hypothesized_mean_diff = 0\n",
        "\n",
        "# Calculate the standard error of the mean difference\n",
        "SE = np.sqrt((std_dev_group1 ** 2 / sample_size_group1) + (std_dev_group2 ** 2 / sample_size_group2))\n",
        "\n",
        "# Calculate the t-statistic\n",
        "t_statistic = (mean_group1 - mean_group2 - hypothesized_mean_diff) / SE\n",
        "\n",
        "# Calculate the critical value for a two-tailed test with 30 + 40 - 2 = 68 degrees of freedom (df)\n",
        "significance_level = 0.01\n",
        "critical_value = t.ppf(1 - significance_level / 2, df=sample_size_group1 + sample_size_group2 - 2)\n",
        "\n",
        "# Compare the t-statistic with the critical value and perform the hypothesis test\n",
        "if abs(t_statistic) > critical_value:\n",
        "    print(\"Reject the null hypothesis.\")\n",
        "    print(\"There is enough evidence to support that the population means for the two groups are not equal.\")\n",
        "else:\n",
        "    print(\"Fail to reject the null hypothesis.\")\n",
        "    print(\"There is not enough evidence to conclude that the population means for the two groups are different.\")\n",
        "\n",
        "print(f\"T-statistic: {t_statistic:.2f}\")\n",
        "print(f\"Critical Value: {critical_value:.2f}\")\n"
      ],
      "metadata": {
        "colab": {
          "base_uri": "https://localhost:8080/"
        },
        "id": "ppH5yxalRu2i",
        "outputId": "429b0adc-d5db-4052-ef54-d78fdeabee5a"
      },
      "execution_count": 11,
      "outputs": [
        {
          "output_type": "stream",
          "name": "stdout",
          "text": [
            "Fail to reject the null hypothesis.\n",
            "There is not enough evidence to conclude that the population means for the two groups are different.\n",
            "T-statistic: 2.25\n",
            "Critical Value: 2.65\n"
          ]
        }
      ]
    },
    {
      "cell_type": "markdown",
      "source": [
        "#Q17. A marketing company wants to estimate the average number of ads watched by viewers during a TV program. They take a random sample of 50 viewers and find that the sample mean is 4 with a standard deviation of 1.5. Estimate the population mean with a 99% confidence interval.\n",
        "Ans -"
      ],
      "metadata": {
        "id": "HmZDNG9GRmz8"
      }
    },
    {
      "cell_type": "code",
      "source": [
        "import numpy as np\n",
        "from scipy.stats import t\n",
        "\n",
        "# Given data\n",
        "sample_mean = 4\n",
        "sample_std_dev = 1.5\n",
        "sample_size = 50\n",
        "confidence_level = 0.99\n",
        "\n",
        "# Calculate the critical value for a two-tailed test with 50 - 1 = 49 degrees of freedom\n",
        "critical_value = t.ppf(1 - (1 - confidence_level) / 2, df=sample_size - 1)\n",
        "\n",
        "# Calculate the standard error of the mean\n",
        "standard_error = sample_std_dev / np.sqrt(sample_size)\n",
        "\n",
        "# Calculate the lower and upper bounds of the confidence interval\n",
        "lower_bound = sample_mean - critical_value * standard_error\n",
        "upper_bound = sample_mean + critical_value * standard_error\n",
        "\n",
        "# Print the results\n",
        "print(f\"Sample Mean: {sample_mean}\")\n",
        "print(f\"Standard Error: {standard_error:.2f}\")\n",
        "print(f\"Critical Value: {critical_value:.2f}\")\n",
        "print(f\"99% Confidence Interval: ({lower_bound:.2f}, {upper_bound:.2f})\")\n"
      ],
      "metadata": {
        "colab": {
          "base_uri": "https://localhost:8080/"
        },
        "id": "jbA21O6HROL3",
        "outputId": "b7aeb564-0b9e-47c0-9303-37e2e01f2f85"
      },
      "execution_count": 12,
      "outputs": [
        {
          "output_type": "stream",
          "name": "stdout",
          "text": [
            "Sample Mean: 4\n",
            "Standard Error: 0.21\n",
            "Critical Value: 2.68\n",
            "99% Confidence Interval: (3.43, 4.57)\n"
          ]
        }
      ]
    },
    {
      "cell_type": "code",
      "source": [],
      "metadata": {
        "id": "0qftCYlSRxWm"
      },
      "execution_count": null,
      "outputs": []
    }
  ]
}