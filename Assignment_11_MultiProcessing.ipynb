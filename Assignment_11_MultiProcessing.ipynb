{
  "nbformat": 4,
  "nbformat_minor": 0,
  "metadata": {
    "colab": {
      "provenance": []
    },
    "kernelspec": {
      "name": "python3",
      "display_name": "Python 3"
    },
    "language_info": {
      "name": "python"
    }
  },
  "cells": [
    {
      "cell_type": "markdown",
      "source": [
        "Q1. What is multiprocessing in python? Why is it useful?\n",
        "\n",
        "Ans -\n",
        "- Multiprocessing in Python refers to the ability to run multiple processes simultaneously, each of which can execute independently and utilize multiple CPU cores. It is a form of parallel computing that allows for efficient utilization of resources and improved performance in certain scenarios.\n",
        "\n",
        "- Increased Performance: By utilizing multiple CPU cores, multiprocessing can significantly speed up the execution of CPU-intensive tasks. It allows you to divide a computationally expensive problem into smaller subproblems and process them concurrently.\n",
        "\n",
        "- Python's multiprocessing module provides a high-level interface to create and manage multiple processes. It allows you to spawn subprocesses, distribute workload across multiple cores, and communicate between processes using various interprocess communication mechanisms."
      ],
      "metadata": {
        "id": "6UdIKFBedPFd"
      }
    },
    {
      "cell_type": "markdown",
      "source": [
        "Q2. What are the differences between multiprocessing and multithreading?\n",
        "\n",
        "Ans -\n",
        "## Multiprocessing\n",
        "- Multiprocessing: Multiprocessing involves running multiple processes simultaneously, where each process has its own memory space and resources. Each process runs independently, and communication between processes requires explicit interprocess communication (IPC) mechanisms.\n",
        "\n",
        "- Multiprocessing: Each process in multiprocessing has its own memory space, which means data is not shared by default between processes. To share data, explicit mechanisms like IPC or shared memory need to be used.\n",
        "\n",
        "##Multithreading\n",
        "\n",
        "- Multithreading: Multithreading involves running multiple threads within a single process. Threads share the same memory space and resources of the parent process. Threads run concurrently, and communication between threads is typically done through shared memory.\n",
        "\n",
        "- Multithreading: Threads within the same process share the same memory space, allowing them to directly access and modify shared data. This shared memory can lead to race conditions and requires proper synchronization techniques to ensure thread safety."
      ],
      "metadata": {
        "id": "CMj6hvPUfSch"
      }
    },
    {
      "cell_type": "markdown",
      "source": [
        "Q3. Write a python code to create a process using the multiprocessing module."
      ],
      "metadata": {
        "id": "Vqyr9-Xyf7k7"
      }
    },
    {
      "cell_type": "code",
      "source": [
        "import multiprocessing\n",
        "\n",
        "def worker():\n",
        "    \"\"\"Function to be executed by the child process.\"\"\"\n",
        "    print(\"Worker process executing\")\n",
        "\n",
        "if __name__ == \"__main__\":\n",
        "    # Create a new process\n",
        "    process = multiprocessing.Process(target=worker)\n",
        "\n",
        "    # Start the process\n",
        "    process.start()\n",
        "\n",
        "    # Wait for the process to finish\n",
        "    process.join()\n",
        "\n",
        "    print(\"Main process exiting\")\n"
      ],
      "metadata": {
        "colab": {
          "base_uri": "https://localhost:8080/"
        },
        "id": "5FhivlPMeur1",
        "outputId": "834a6f40-85a6-4e4f-aa70-92a4a587c86b"
      },
      "execution_count": 1,
      "outputs": [
        {
          "output_type": "stream",
          "name": "stdout",
          "text": [
            "Worker process executing\n",
            "Main process exiting\n"
          ]
        }
      ]
    },
    {
      "cell_type": "markdown",
      "source": [
        "Q4. What is a multiprocessing pool in python? Why is it used?\n",
        "\n",
        "- a multiprocessing pool is a convenient abstraction provided by the multiprocessing module to manage a pool of worker processes. It allows for efficient parallel execution of a function across multiple input values or tasks. The pool distributes the workload among the available processes, automatically managing the creation, execution, and synchronization of the worker processes.\n",
        "\n",
        "\n",
        "- Parallel Execution: A multiprocessing pool enables parallel execution of tasks across multiple processes. It allows you to take advantage of multiple CPU cores and distribute the workload efficiently, leading to improved performance and faster execution times for CPU-bound tasks.\n"
      ],
      "metadata": {
        "id": "J6pRRsGkpQn5"
      }
    },
    {
      "cell_type": "markdown",
      "source": [
        "Q5. How can we create a pool of worker processes in python using the multiprocessing module?\n",
        "\n",
        "Ans -\n",
        "- To create a pool of worker processes in Python using the multiprocessing module, you can utilize the multiprocessing.\n",
        "\n"
      ],
      "metadata": {
        "id": "Os_SYiMrpyV7"
      }
    },
    {
      "cell_type": "code",
      "source": [
        "import multiprocessing\n",
        "\n",
        "def worker(x):\n",
        "    \"\"\"Function to be executed by the worker process.\"\"\"\n",
        "    return x * x\n",
        "\n",
        "if __name__ == \"__main__\":\n",
        "    # Create a multiprocessing pool with 3 worker processes\n",
        "    pool = multiprocessing.Pool(processes=3)\n",
        "\n",
        "    # Define the input values\n",
        "    input_values = [1, 2, 3, 4, 5]\n",
        "\n",
        "    # Apply the worker function to the input values using the pool\n",
        "    results = pool.map(worker, input_values)\n",
        "\n",
        "    # Print the results\n",
        "    print(results)\n",
        "\n",
        "    # Close the pool to prevent any more tasks from being submitted\n",
        "    pool.close()\n",
        "\n",
        "    # Wait for all worker processes to finish\n",
        "    pool.join()\n"
      ],
      "metadata": {
        "colab": {
          "base_uri": "https://localhost:8080/"
        },
        "id": "F-fIPuqdo3rH",
        "outputId": "0495ede4-21e5-4df9-8bed-c7ad6064012f"
      },
      "execution_count": 2,
      "outputs": [
        {
          "output_type": "stream",
          "name": "stdout",
          "text": [
            "[1, 4, 9, 16, 25]\n"
          ]
        }
      ]
    },
    {
      "cell_type": "markdown",
      "source": [
        "Q6. Write a python program to create 4 processes, each process should print a different number using the\n",
        "multiprocessing module in python."
      ],
      "metadata": {
        "id": "11GFPrCDqiXv"
      }
    },
    {
      "cell_type": "markdown",
      "source": [
        "Ans -\n",
        "-"
      ],
      "metadata": {
        "id": "cLJDRDOEqkPq"
      }
    },
    {
      "cell_type": "code",
      "source": [
        "import multiprocessing\n",
        "\n",
        "def print_number(number):\n",
        "    \"\"\"Function to be executed by each process.\"\"\"\n",
        "    print(\"Process\", multiprocessing.current_process().name, \"prints\", number)\n",
        "\n",
        "if __name__ == \"__main__\":\n",
        "    # Create a list of numbers\n",
        "    numbers = [1, 2, 3, 4]\n",
        "\n",
        "    # Create a list to store the processes\n",
        "    processes = []\n",
        "\n",
        "    # Create and start a process for each number\n",
        "    for number in numbers:\n",
        "        process = multiprocessing.Process(target=print_number, args=(number,))\n",
        "        processes.append(process)\n",
        "        process.start()\n",
        "\n",
        "    # Wait for all processes to finish\n",
        "    for process in processes:\n",
        "        process.join()\n",
        "\n",
        "    print(\"Main process exiting\")\n"
      ],
      "metadata": {
        "colab": {
          "base_uri": "https://localhost:8080/"
        },
        "id": "Gn9zBsM4qXS0",
        "outputId": "af264a7a-e9c8-413e-c538-eae8d7f04d3c"
      },
      "execution_count": 3,
      "outputs": [
        {
          "output_type": "stream",
          "name": "stdout",
          "text": [
            "ProcessProcess  ProcessProcess-5Process-6  Process Process-7prints Process-8  prints1prints  \n",
            "23 \n",
            "\n",
            "prints 4\n",
            "Main process exiting\n"
          ]
        }
      ]
    },
    {
      "cell_type": "code",
      "source": [],
      "metadata": {
        "id": "GtjnnfNCq5aM"
      },
      "execution_count": null,
      "outputs": []
    }
  ]
}