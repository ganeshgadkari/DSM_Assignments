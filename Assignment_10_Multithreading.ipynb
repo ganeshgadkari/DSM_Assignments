{
  "nbformat": 4,
  "nbformat_minor": 0,
  "metadata": {
    "colab": {
      "provenance": []
    },
    "kernelspec": {
      "name": "python3",
      "display_name": "Python 3"
    },
    "language_info": {
      "name": "python"
    }
  },
  "cells": [
    {
      "cell_type": "markdown",
      "source": [
        "Q.1)What is multithreading in python?Why is it used? Name the module used to handle threads in python."
      ],
      "metadata": {
        "id": "3Wrz_Z3N0GHA"
      }
    },
    {
      "cell_type": "markdown",
      "source": [
        "Ans - Multithreading in Python refers to the concurrent execution of multiple threads within a single program. A thread is a lightweight subprocess or a separate flow of execution within a program. Multithreading allows different parts of a program to run concurrently, which can improve overall performance and responsiveness."
      ],
      "metadata": {
        "id": "zgcCA3nO2G31"
      }
    },
    {
      "cell_type": "markdown",
      "source": [
        "##The module used to handle threads in Python is called threading."
      ],
      "metadata": {
        "id": "fDqOdQ952Tuk"
      }
    },
    {
      "cell_type": "markdown",
      "source": [
        "2)Why threading module used? rite the use of the following functions.\n",
        "\n",
        "1.activeCount\n",
        "\n",
        "2.currentThread\n",
        "\n",
        "3.enumerate"
      ],
      "metadata": {
        "id": "4UvZRQH02a0W"
      }
    },
    {
      "cell_type": "markdown",
      "source": [
        " 1)activeCount -  The method threading.active_count() from the threading module is used to count the currently active or running threads. The method returns the number of Thread objects that are active at any instant, and the return type is <class 'int'.\n",
        "\n",
        "\n",
        "\n",
        "\n",
        "2)CurrentThread -  The term \"CurrentThread\" typically refers to a concept in multithreading programming, where it represents the currently executing thread of a program.\n",
        "\n",
        "\n",
        "\n",
        "\n",
        "3)Enumerate - The enumerate() function is a built-in function that allows you to iterate over an iterable (such as a list, tuple, or string) while simultaneously keeping track of the index or position of each element. It returns an iterator that generates pairs of index and value for each item in the iterable."
      ],
      "metadata": {
        "id": "x289u8c-WOok"
      }
    },
    {
      "cell_type": "markdown",
      "source": [
        "Q3. Explain the following functions\n",
        "Ans -\n",
        "- run -  The run method is used in the context of threading in Python. It represents the entry point for the thread's activity or behavior. When creating a custom thread class, you typically override the run method to define the actions or tasks that the thread should perform when started. The code written inside the run method will be executed when the thread is started using the start method.\n",
        "\n",
        "\n",
        "- Start - The start method is used to start a thread's execution. It initiates the thread's activity by calling the run method of the thread. When you invoke the start method, a new thread is created and its run method is executed concurrently with the main thread (or other threads). The start method ensures that the thread runs asynchronously and independently.\n",
        "\n",
        "\n",
        "- join() -  The join method is used to synchronize the execution of multiple threads. When a thread calls the join method on another thread, it waits for that thread to complete its execution before proceeding further.\n",
        "\n",
        "- isAlive(): The isAlive method is used to check the status of a thread. It returns a boolean value indicating whether a thread is currently running or has finished executing. If the thread is still active and running, the isAlive method returns True. Once the thread has completed its execution and terminated, the isAlive method returns False.\n"
      ],
      "metadata": {
        "id": "eGHxGe-9Wsk2"
      }
    },
    {
      "cell_type": "markdown",
      "source": [
        "Q4.Write a python program to create two threads. Thread one must print the list of squares and thread\n",
        "two must print the list of cubes\n",
        "\n",
        "\n",
        "Ans -"
      ],
      "metadata": {
        "id": "C0lB_gjZZPio"
      }
    },
    {
      "cell_type": "code",
      "source": [
        "import threading\n",
        "\n",
        "def print_squares(numbers):\n",
        "    squares = [num ** 2 for num in numbers]\n",
        "    print(\"List of Squares:\", squares)\n",
        "\n",
        "def print_cubes(numbers):\n",
        "    cubes = [num ** 3 for num in numbers]\n",
        "    print(\"List of Cubes:\", cubes)\n",
        "\n",
        "numbers = [1, 2, 3, 4, 5]\n",
        "\n",
        "# Create the first thread for printing squares\n",
        "thread1 = threading.Thread(target=print_squares, args=(numbers,))\n",
        "\n",
        "# Create the second thread for printing cubes\n",
        "thread2 = threading.Thread(target=print_cubes, args=(numbers,))\n",
        "\n",
        "# Start both threads\n",
        "thread1.start()\n",
        "thread2.start()\n",
        "\n",
        "# Wait for both threads to finish\n",
        "thread1.join()\n",
        "thread2.join()\n",
        "\n",
        "print(\"Program Execution Completed.\")\n"
      ],
      "metadata": {
        "colab": {
          "base_uri": "https://localhost:8080/"
        },
        "id": "FCPOFju-WcK6",
        "outputId": "999c2944-605c-4c58-d7fd-23161446f72f"
      },
      "execution_count": 1,
      "outputs": [
        {
          "output_type": "stream",
          "name": "stdout",
          "text": [
            "List of Squares: [1, 4, 9, 16, 25]\n",
            "List of Cubes: [1, 8, 27, 64, 125]\n",
            "Program Execution Completed.\n"
          ]
        }
      ]
    },
    {
      "cell_type": "markdown",
      "source": [
        "\n",
        "Q5. State advantages and disadvantages of multithreading\n",
        "\n",
        "\n",
        "##Advantages -\n",
        "\n",
        "-Concurrency and Responsiveness: Multithreading allows multiple tasks or processes to execute concurrently, improving the overall responsiveness of the application.\n",
        "\n",
        "- Utilization of Multiple Cores: Multithreading enables the efficient utilization of multiple CPU cores in a system.\n",
        "\n",
        "- Improved Efficiency: Multithreading can enhance the overall efficiency of a program. It enables parallel execution of tasks, reducing the time needed to complete complex operations and increasing overall throughput.\n",
        "\n",
        "\n",
        "##Disadvantages\n",
        "\n",
        "- Complexity and Difficulty of Debugging: Multithreaded programs can be more challenging to design, implement, and debug compared to single-threaded programs.\n",
        "\n",
        "\n",
        "- Synchronization Overhead: When multiple threads access shared resources, proper synchronization mechanisms must be employed to ensure data integrity.\n",
        "\n",
        "\n",
        "- Increased Memory Usage: Each thread in a multithreaded program requires its own stack and thread-specific resources."
      ],
      "metadata": {
        "id": "hU5snNuwa-I0"
      }
    },
    {
      "cell_type": "markdown",
      "source": [
        "Q6. Explain deadlocks and race conditions.\n",
        "\n",
        "Ans -\n",
        "\n",
        "##Deadlocks:\n",
        "A deadlock is a situation where two or more threads or processes are blocked indefinitely, waiting for each other to release resources.\n",
        "\n",
        "-  least one resource must be held in a non-shareable mode, meaning that only one thread or process can use it at a time.\n",
        "\n",
        "\n",
        "-  A thread/process must hold at least one resource while waiting to acquire additional resources held by other threads/processes.\n",
        "\n",
        "\n",
        "##Race Conditions:\n",
        "A race condition is a scenario where the behavior of a program depends on the interleaving or ordering of operations performed by multiple threads or processes accessing shared resources.\n",
        "\n",
        "\n",
        "- The interleaving of operations becomes problematic when one thread/process assumes the state of the shared resource will remain unchanged until it completes its operation."
      ],
      "metadata": {
        "id": "cpnEzqUNbs3l"
      }
    },
    {
      "cell_type": "code",
      "source": [],
      "metadata": {
        "id": "h87i4KkUaxbn"
      },
      "execution_count": null,
      "outputs": []
    }
  ]
}