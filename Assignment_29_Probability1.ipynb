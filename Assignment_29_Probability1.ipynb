{
  "nbformat": 4,
  "nbformat_minor": 0,
  "metadata": {
    "colab": {
      "provenance": []
    },
    "kernelspec": {
      "name": "python3",
      "display_name": "Python 3"
    },
    "language_info": {
      "name": "python"
    }
  },
  "cells": [
    {
      "cell_type": "code",
      "execution_count": null,
      "metadata": {
        "id": "GFEZeWzOdgrP"
      },
      "outputs": [],
      "source": []
    },
    {
      "cell_type": "markdown",
      "source": [
        "#Q1. What is the Probability density function?\n",
        "Ans -\n",
        "\n",
        "- The Probability Density Function (PDF) is a fundamental concept in probability theory and statistics. It is used to describe the probability distribution of a continuous random variable. In simpler terms, the PDF gives us the likelihood of a continuous random variable taking on a particular value within a given range.\n",
        "\n",
        "For a continuous random variable X, the PDF is denoted as f(x) and satisfies the following properties:\n",
        "\n",
        "Non-negativity: The PDF is always non-negative, meaning that f(x) ≥ 0 for all x.\n",
        "\n",
        "Total area under the curve: The total area under the PDF curve over the entire range of X is equal to 1. This means that the sum of probabilities for all possible values of X is equal to 1.\n",
        "\n",
        "Mathematically, for any interval [a, b], the probability that X lies within that interval is given by the integral of the PDF over that interval:\n",
        "\n",
        "P(a ≤ X ≤ b) = ∫(from a to b) f(x) dx"
      ],
      "metadata": {
        "id": "hVJPLHISds0-"
      }
    },
    {
      "cell_type": "markdown",
      "source": [
        "#Q2. What are the types of Probability distribution?\n",
        "Ans -\n",
        "- Discrete Probability Distributions:\n",
        " - Discrete probability distributions are applicable to discrete random variables, which can only take on a finite or countable number of distinct values. The probability mass function (PMF) is used to describe the probabilities of these discrete values.\n",
        "\n",
        "Examples of discrete probability distributions include:\n",
        "\n",
        "- Bernoulli distribution:\n",
        " - Describes the probability of success or failure for a single binary event.\n",
        "Binomial distribution: Models the number of successes in a fixed number of independent Bernoulli trials.\n",
        "Poisson distribution: Used to model the number of events that occur within a fixed interval of time or space.\n",
        "Geometric distribution: Represents the number of trials needed to achieve the first success in a series of Bernoulli trials.\n",
        "Continuous Probability Distributions:\n",
        "Continuous probability distributions apply to continuous random variables, which can take on any value within a specified range. The probability density function (PDF) is used to describe the probabilities associated with continuous random variables.\n",
        "\n",
        "Examples of continuous probability distributions include:\n",
        "\n",
        "- Normal distribution (Gaussian distribution):\n",
        " - Characterized by a bell-shaped curve and widely used in various fields due to the central limit theorem.\n",
        "Uniform distribution: Assumes that all values within a specified range are equally likely to occur.\n",
        "Exponential distribution: Models the time between events in a Poisson process, often used in survival analysis and queuing theory.\n",
        "Beta distribution: Used as a flexible model for probabilities on the interval [0, 1], commonly used in Bayesian statistics."
      ],
      "metadata": {
        "id": "mDk9V0-K7csc"
      }
    },
    {
      "cell_type": "markdown",
      "source": [
        "#Q3. Write a Python function to calculate the probability density function of a normal distribution with given mean and standard deviation at a given point.\n",
        "Ans -\n",
        "\n",
        "\n"
      ],
      "metadata": {
        "id": "kXPum11_74LL"
      }
    },
    {
      "cell_type": "code",
      "source": [
        "from scipy.stats import norm\n",
        "\n",
        "def normal_pdf(mean, std_dev, x):\n",
        "    return norm.pdf(x, loc=mean, scale=std_dev)\n",
        "\n",
        "# Example usage:\n",
        "mean = 0\n",
        "std_dev = 1\n",
        "x_value = 1.5\n",
        "pdf_value = normal_pdf(mean, std_dev, x_value)\n",
        "print(f\"The PDF value at x = {x_value} is: {pdf_value:.4f}\")\n"
      ],
      "metadata": {
        "colab": {
          "base_uri": "https://localhost:8080/"
        },
        "id": "PkVWkBdyd2qV",
        "outputId": "f3b69c36-7024-442d-81fb-1dcddf85c0a5"
      },
      "execution_count": 2,
      "outputs": [
        {
          "output_type": "stream",
          "name": "stdout",
          "text": [
            "The PDF value at x = 1.5 is: 0.1295\n"
          ]
        }
      ]
    },
    {
      "cell_type": "markdown",
      "source": [
        "#Q4. What are the properties of Binomial distribution? Give two examples of events where binomial distribution can be applied.\n",
        "Ans -\n",
        "- Properties of the Binomial distribution:\n",
        "\n",
        " - Fixed Number of Trials (n): The Binomial distribution is based on a fixed number of independent trials, denoted by 'n'. Each trial has only two possible outcomes: success or failure.\n",
        "\n",
        " - Independent Trials: The trials in the Binomial distribution are assumed to be independent of each other. The outcome of one trial does not affect the outcomes of other trials.\n",
        "\n",
        " - Constant Probability of Success (p): The probability of success in each trial is represented by 'p'. The probability of failure (not achieving success) is represented by 'q', where q = 1 - p.\n",
        "\n",
        " - Discrete Values: The Binomial distribution deals with discrete random variables, as it counts the number of successes in 'n' trials. The number of successes can only take on non-negative integer values from 0 to 'n'.\n",
        "\n",
        " - Probability Mass Function (PMF): The probability mass function of the Binomial distribution gives the probability of obtaining a specific number of successes (k) in 'n' trials. It is given by the formula: P(X = k) = (n choose k) * p^k * q^(n-k), where (n choose k) is the binomial coefficient, given by n! / (k! * (n-k)!).\n",
        "\n",
        "- Examples of events where the Binomial distribution can be applied:\n",
        "\n",
        " - Election Outcome:\n",
        "Consider a local election with 'n' eligible voters, where a candidate can either win (success) or lose (failure) each vote. Assuming each voter independently decides to vote for the candidate with a constant probability 'p', we can use a Binomial distribution to calculate the probability of the candidate winning 'k' votes out of 'n'.\n",
        "\n",
        " - Defective Product Rate:\n",
        "A manufacturing company produces a large number of products, and each product has a chance of being defective (success) or non-defective (failure). If we randomly select and inspect 'n' products, we can use a Binomial distribution to calculate the probability of finding 'k' defective products in the sample, given the probability 'p' of an individual product being defective.\n"
      ],
      "metadata": {
        "id": "puC5TH0j8jTv"
      }
    },
    {
      "cell_type": "markdown",
      "source": [
        "#Q5. Generate a random sample of size 1000 from a binomial distribution with probability of success 0.4 and plot a histogram of the results using matplotlib."
      ],
      "metadata": {
        "id": "Wbro4MuD9693"
      }
    },
    {
      "cell_type": "code",
      "source": [
        "import numpy as np\n",
        "import matplotlib.pyplot as plt\n",
        "\n",
        "# Parameters for the binomial distribution\n",
        "probability_of_success = 0.4\n",
        "sample_size = 1000\n",
        "\n",
        "# Generate random sample from binomial distribution\n",
        "random_sample = np.random.binomial(n=1, p=probability_of_success, size=sample_size)\n",
        "\n",
        "# Plotting the histogram\n",
        "plt.hist(random_sample, bins=2, range=(-0.5, 1.5), edgecolor='black')\n",
        "plt.xticks([0, 1], ['Failure', 'Success'])\n",
        "plt.xlabel('Outcome')\n",
        "plt.ylabel('Frequency')\n",
        "plt.title('Histogram of Random Sample from Binomial Distribution')\n",
        "plt.show()\n"
      ],
      "metadata": {
        "colab": {
          "base_uri": "https://localhost:8080/",
          "height": 472
        },
        "id": "Y1yKgYP78UFL",
        "outputId": "e1b2d97d-74d8-4f0a-bf2f-9a9f0b00d828"
      },
      "execution_count": 3,
      "outputs": [
        {
          "output_type": "display_data",
          "data": {
            "text/plain": [
              "<Figure size 640x480 with 1 Axes>"
            ],
            "image/png": "[encoded data removed]"
          },
          "metadata": {}
        }
      ]
    },
    {
      "cell_type": "markdown",
      "source": [
        "\n",
        "#Q6. Write a Python function to calculate the cumulative distribution function of a Poisson distribution with given mean at a given point."
      ],
      "metadata": {
        "id": "g8oCzwN7-Kgt"
      }
    },
    {
      "cell_type": "code",
      "source": [
        "from scipy.stats import poisson\n",
        "\n",
        "def poisson_cdf(mean, x):\n",
        "\n",
        "    return poisson.cdf(x, mu=mean)\n",
        "\n",
        "# Example usage:\n",
        "mean = 2.5\n",
        "x_value = 4\n",
        "cdf_value = poisson_cdf(mean, x_value)\n",
        "print(f\"The CDF value at x = {x_value} is: {cdf_value:.4f}\")\n"
      ],
      "metadata": {
        "colab": {
          "base_uri": "https://localhost:8080/"
        },
        "id": "Ds9tWw3r-Aiv",
        "outputId": "5776455a-3ec0-452f-86cc-f59c0387239a"
      },
      "execution_count": 4,
      "outputs": [
        {
          "output_type": "stream",
          "name": "stdout",
          "text": [
            "The CDF value at x = 4 is: 0.8912\n"
          ]
        }
      ]
    },
    {
      "cell_type": "markdown",
      "source": [
        "#Q7. How Binomial distribution different from Poisson distribution?\n",
        "Ans -\n",
        "\n",
        "-Definition and Application:\n",
        "\n",
        "- Binomial Distribution:\n",
        "The Binomial distribution is used to model the number of successes in a fixed number of independent Bernoulli trials. Each trial has two possible outcomes: success (with probability 'p') or failure (with probability 'q' = 1 - p). The Binomial distribution is appropriate when the trials are independent and the probability of success remains constant throughout the trials.\n",
        "\n",
        "- Poisson Distribution:\n",
        "The Poisson distribution models the number of events occurring in a fixed interval of time or space. It is used to describe the count of rare events that occur independently within a specified interval. The Poisson distribution is applicable when the events happen at a constant average rate, but the timing of each event is independent of others.\n",
        "\n",
        "Number of Trials:\n",
        "\n",
        "- Binomial Distribution:\n",
        "The Binomial distribution requires a fixed number of independent trials 'n', and the random variable represents the count of successes in these 'n' trials.\n",
        "\n",
        "- Poisson Distribution:\n",
        "The Poisson distribution does not involve a fixed number of trials. Instead, it models the number of events occurring in a given fixed interval of time or space.\n",
        "\n",
        "- Probability Parameters:\n",
        "\n",
        "- Binomial Distribution:\n",
        "The Binomial distribution is characterized by two parameters: 'n', the number of trials, and 'p', the probability of success in each trial.\n",
        "\n",
        "- Poisson Distribution:\n",
        "The Poisson distribution is characterized by a single parameter 'λ' (lambda), which represents the average rate of events occurring per interval. 'λ' is both the mean and variance of the Poisson distribution.\n",
        "\n",
        "Type of Random Variable:\n",
        "\n",
        "- Binomial Distribution:\n",
        "The Binomial distribution deals with a discrete random variable representing the count of successes in 'n' trials. The random variable can take on integer values from 0 to 'n'.\n",
        "\n",
        "- Poisson Distribution:\n",
        "The Poisson distribution also deals with a discrete random variable, representing the count of events occurring in a fixed interval. The random variable can take on non-negative integer values (0, 1, 2, 3, and so on).\n",
        "\n",
        "Type of Random Variable:\n",
        "\n",
        "- Binomial Distribution:\n",
        "The Binomial distribution deals with a discrete random variable representing the count of successes in 'n' trials. The random variable can take on integer values from 0 to 'n'.\n",
        "\n",
        "- Poisson Distribution:\n",
        "The Poisson distribution also deals with a discrete random variable, representing the count of events occurring in a fixed interval. The random variable can take on non-negative integer values (0, 1,"
      ],
      "metadata": {
        "id": "u5qOPmUV-clY"
      }
    },
    {
      "cell_type": "markdown",
      "source": [
        "#Q8. Generate a random sample of size 1000 from a Poisson distribution with mean 5 and calculate the sample mean and variance.\n",
        "Ans -\n"
      ],
      "metadata": {
        "id": "Kauh3YeCQN12"
      }
    },
    {
      "cell_type": "code",
      "source": [
        "import numpy as np\n",
        "\n",
        "# Parameters for the Poisson distribution\n",
        "mean = 5\n",
        "sample_size = 1000\n",
        "\n",
        "# Generate random sample from Poisson distribution\n",
        "random_sample = np.random.poisson(mean, size=sample_size)\n",
        "\n",
        "# Calculate the sample mean and variance\n",
        "sample_mean = np.mean(random_sample)\n",
        "sample_variance = np.var(random_sample, ddof=1)  # Use ddof=1 for sample variance (N-1)\n",
        "\n",
        "print(f\"Sample Mean: {sample_mean:.4f}\")\n",
        "print(f\"Sample Variance: {sample_variance:.4f}\")\n"
      ],
      "metadata": {
        "colab": {
          "base_uri": "https://localhost:8080/"
        },
        "id": "FcwWfVjN-WYf",
        "outputId": "a323c5ec-951c-41b9-cd79-9155cde51bdb"
      },
      "execution_count": 5,
      "outputs": [
        {
          "output_type": "stream",
          "name": "stdout",
          "text": [
            "Sample Mean: 5.0890\n",
            "Sample Variance: 4.8499\n"
          ]
        }
      ]
    },
    {
      "cell_type": "markdown",
      "source": [
        "#Q9. How mean and variance are related in Binomial distribution and Poisson distribution?\n",
        "Ans -\n",
        "Mean: The mean of a Binomial distribution with parameters 'n' (number of trials) and 'p' (probability of success in each trial) is given by the product of 'n' and 'p'. Mathematically, the mean (μ) is equal to μ = n * p.\n",
        "\n",
        "Variance: The variance of a Binomial distribution with parameters 'n' and 'p' is given by the product of 'n', 'p', and 'q' (probability of failure in each trial, q = 1 - p). Mathematically, the variance (σ^2) is equal to σ^2 = n * p * q.\n",
        "\n",
        "For the Poisson distribution:\n",
        "\n",
        "Mean: The mean of a Poisson distribution with parameter 'λ' (average rate of events per interval) is equal to 'λ'. Mathematically, the mean (μ) is equal to μ = λ.\n",
        "\n",
        "Variance: The variance of a Poisson distribution with parameter 'λ' is also equal to 'λ'. Mathematically, the variance (σ^2) is equal to σ^2 = λ.\n",
        "\n",
        "In summary:\n",
        "\n",
        "For the Binomial distribution, the mean is 'n * p', and the variance is 'n * p * q'.\n",
        "For the Poisson distribution, the mean and variance are both equal to 'λ'."
      ],
      "metadata": {
        "id": "soLr44FBRG4j"
      }
    },
    {
      "cell_type": "markdown",
      "source": [
        "#Q10. In normal distribution with respect to mean position, where does the least frequent data appear?\n",
        "Ans -\n",
        "In a normal distribution, the least frequent data appears in the tails of the distribution. The normal distribution, also known as the Gaussian distribution, is a symmetric bell-shaped curve. The highest frequency of data points is found around the mean, which is the central value of the distribution. As you move away from the mean towards the tails of the distribution, the frequency of data points decreases.\n",
        "\n",
        "The tails of the normal distribution extend to negative and positive infinity, but as the values get further away from the mean, the likelihood of encountering those extreme values becomes increasingly rare. In other words, the data points that are located far away from the mean have lower probabilities of occurrence, making them the least frequent data points in the distribution."
      ],
      "metadata": {
        "id": "m_tq715BSGo8"
      }
    },
    {
      "cell_type": "code",
      "source": [],
      "metadata": {
        "id": "VAQNxEmfQ_JY"
      },
      "execution_count": null,
      "outputs": []
    }
  ]
}