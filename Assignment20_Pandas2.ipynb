{
  "cells": [
    {
      "cell_type": "markdown",
      "metadata": {
        "id": "oNsesXeFK7F4"
      },
      "source": [
        "##Q1. List any five functions of the pandas library with execution.\n",
        "Ans - read_csv(): This function is used to read data from a CSV file and create a DataFrame.\n",
        "\n",
        "head(): This function is used to display the first n rows of a DataFrame. By default, it displays the first five rows.\n",
        "\n",
        "shape(): This function is used to get the dimensions (number of rows and columns) of a DataFrame.\n",
        "\n",
        "groupby(): This function is used to group data in a DataFrame based on one or more columns.\n",
        "\n",
        "to_csv(): This function is used to save a DataFrame as a CSV file.\n"
      ]
    },
    {
      "cell_type": "markdown",
      "metadata": {
        "id": "NzVBvmgcNmdp"
      },
      "source": [
        "##Q2. Given a Pandas DataFrame df with columns 'A', 'B', and 'C', write a Python function to re-index the DataFrame with a new index that starts from 1 and increments by 2 for each row.\n",
        "Ans -"
      ]
    },
    {
      "cell_type": "code",
      "execution_count": null,
      "metadata": {
        "colab": {
          "base_uri": "https://localhost:8080/"
        },
        "id": "syuqZuFJK0L3",
        "outputId": "36425237-254c-42e2-9ff2-d3a8acc62411"
      },
      "outputs": [
        {
          "name": "stdout",
          "output_type": "stream",
          "text": [
            "    A   B    C\n",
            "1  10  50   90\n",
            "3  20  60  100\n",
            "5  30  70  110\n",
            "7  40  80  120\n"
          ]
        }
      ],
      "source": [
        "import pandas as pd\n",
        "\n",
        "def reindex_dataframe(df):\n",
        "    new_index = pd.Index(range(1, len(df) * 2, 2))\n",
        "    df_reindexed = df.set_index(new_index)\n",
        "    return df_reindexed\n",
        "\n",
        "# Example usage:\n",
        "# Assuming you have a DataFrame 'df' with columns 'A', 'B', and 'C'\n",
        "df = pd.DataFrame({'A': [10, 20, 30, 40], 'B': [50, 60, 70, 80], 'C': [90, 100, 110, 120]})\n",
        "\n",
        "# Call the function to re-index the DataFrame\n",
        "df_reindexed = reindex_dataframe(df)\n",
        "\n",
        "# Print the re-indexed DataFrame\n",
        "print(df_reindexed)\n"
      ]
    },
    {
      "cell_type": "markdown",
      "metadata": {
        "id": "yJe5k9M6dDWo"
      },
      "source": [
        "##Q3.You have a Pandas DataFrame df with a column named 'Values'. Write a Python function that iterates over the DataFrame and calculates the sum of the first three values in the 'Values' column. The function should print the sum to the console."
      ]
    },
    {
      "cell_type": "code",
      "execution_count": null,
      "metadata": {
        "id": "bE8W8bLRP_CG"
      },
      "outputs": [],
      "source": [
        "# Assuming you have a DataFrame 'df' with columns 'values'\n",
        "df = pd.DataFrame({'Values': [10, 20, 30, 40]})"
      ]
    },
    {
      "cell_type": "code",
      "execution_count": null,
      "metadata": {
        "colab": {
          "base_uri": "https://localhost:8080/",
          "height": 175
        },
        "id": "OQ3fw7KCd0Nd",
        "outputId": "0b43edc9-c572-4595-dcae-11f1c47ede07"
      },
      "outputs": [
        {
          "data": {
            "text/html": [
              "\n",
              "  <div id=\"df-1aa91a45-cb29-45b6-83a6-e19cbdaedc33\">\n",
              "    <div class=\"colab-df-container\">\n",
              "      <div>\n",
              "<style scoped>\n",
              "    .dataframe tbody tr th:only-of-type {\n",
              "        vertical-align: middle;\n",
              "    }\n",
              "\n",
              "    .dataframe tbody tr th {\n",
              "        vertical-align: top;\n",
              "    }\n",
              "\n",
              "    .dataframe thead th {\n",
              "        text-align: right;\n",
              "    }\n",
              "</style>\n",
              "<table border=\"1\" class=\"dataframe\">\n",
              "  <thead>\n",
              "    <tr style=\"text-align: right;\">\n",
              "      <th></th>\n",
              "      <th>Values</th>\n",
              "    </tr>\n",
              "  </thead>\n",
              "  <tbody>\n",
              "    <tr>\n",
              "      <th>0</th>\n",
              "      <td>10</td>\n",
              "    </tr>\n",
              "    <tr>\n",
              "      <th>1</th>\n",
              "      <td>20</td>\n",
              "    </tr>\n",
              "    <tr>\n",
              "      <th>2</th>\n",
              "      <td>30</td>\n",
              "    </tr>\n",
              "    <tr>\n",
              "      <th>3</th>\n",
              "      <td>40</td>\n",
              "    </tr>\n",
              "  </tbody>\n",
              "</table>\n",
              "</div>\n",
              "      <button class=\"colab-df-convert\" onclick=\"convertToInteractive('df-1aa91a45-cb29-45b6-83a6-e19cbdaedc33')\"\n",
              "              title=\"Convert this dataframe to an interactive table.\"\n",
              "              style=\"display:none;\">\n",
              "        \n",
              "  <svg xmlns=\"http://www.w3.org/2000/svg\" height=\"24px\"viewBox=\"0 0 24 24\"\n",
              "       width=\"24px\">\n",
              "    <path d=\"M0 0h24v24H0V0z\" fill=\"none\"/>\n",
              "    <path d=\"M18.56 5.44l.94 2.06.94-2.06 2.06-.94-2.06-.94-.94-2.06-.94 2.06-2.06.94zm-11 1L8.5 8.5l.94-2.06 2.06-.94-2.06-.94L8.5 2.5l-.94 2.06-2.06.94zm10 10l.94 2.06.94-2.06 2.06-.94-2.06-.94-.94-2.06-.94 2.06-2.06.94z\"/><path d=\"M17.41 7.96l-1.37-1.37c-.4-.4-.92-.59-1.43-.59-.52 0-1.04.2-1.43.59L10.3 9.45l-7.72 7.72c-.78.78-.78 2.05 0 2.83L4 21.41c.39.39.9.59 1.41.59.51 0 1.02-.2 1.41-.59l7.78-7.78 2.81-2.81c.8-.78.8-2.07 0-2.86zM5.41 20L4 18.59l7.72-7.72 1.47 1.35L5.41 20z\"/>\n",
              "  </svg>\n",
              "      </button>\n",
              "      \n",
              "  <style>\n",
              "    .colab-df-container {\n",
              "      display:flex;\n",
              "      flex-wrap:wrap;\n",
              "      gap: 12px;\n",
              "    }\n",
              "\n",
              "    .colab-df-convert {\n",
              "      background-color: #E8F0FE;\n",
              "      border: none;\n",
              "      border-radius: 50%;\n",
              "      cursor: pointer;\n",
              "      display: none;\n",
              "      fill: #1967D2;\n",
              "      height: 32px;\n",
              "      padding: 0 0 0 0;\n",
              "      width: 32px;\n",
              "    }\n",
              "\n",
              "    .colab-df-convert:hover {\n",
              "      background-color: #E2EBFA;\n",
              "      box-shadow: 0px 1px 2px rgba(60, 64, 67, 0.3), 0px 1px 3px 1px rgba(60, 64, 67, 0.15);\n",
              "      fill: #174EA6;\n",
              "    }\n",
              "\n",
              "    [theme=dark] .colab-df-convert {\n",
              "      background-color: #3B4455;\n",
              "      fill: #D2E3FC;\n",
              "    }\n",
              "\n",
              "    [theme=dark] .colab-df-convert:hover {\n",
              "      background-color: #434B5C;\n",
              "      box-shadow: 0px 1px 3px 1px rgba(0, 0, 0, 0.15);\n",
              "      filter: drop-shadow(0px 1px 2px rgba(0, 0, 0, 0.3));\n",
              "      fill: #FFFFFF;\n",
              "    }\n",
              "  </style>\n",
              "\n",
              "      <script>\n",
              "        const buttonEl =\n",
              "          document.querySelector('#df-1aa91a45-cb29-45b6-83a6-e19cbdaedc33 button.colab-df-convert');\n",
              "        buttonEl.style.display =\n",
              "          google.colab.kernel.accessAllowed ? 'block' : 'none';\n",
              "\n",
              "        async function convertToInteractive(key) {\n",
              "          const element = document.querySelector('#df-1aa91a45-cb29-45b6-83a6-e19cbdaedc33');\n",
              "          const dataTable =\n",
              "            await google.colab.kernel.invokeFunction('convertToInteractive',\n",
              "                                                     [key], {});\n",
              "          if (!dataTable) return;\n",
              "\n",
              "          const docLinkHtml = 'Like what you see? Visit the ' +\n",
              "            '<a target=\"_blank\" href=https://colab.research.google.com/notebooks/data_table.ipynb>data table notebook</a>'\n",
              "            + ' to learn more about interactive tables.';\n",
              "          element.innerHTML = '';\n",
              "          dataTable['output_type'] = 'display_data';\n",
              "          await google.colab.output.renderOutput(dataTable, element);\n",
              "          const docLink = document.createElement('div');\n",
              "          docLink.innerHTML = docLinkHtml;\n",
              "          element.appendChild(docLink);\n",
              "        }\n",
              "      </script>\n",
              "    </div>\n",
              "  </div>\n",
              "  "
            ],
            "text/plain": [
              "   Values\n",
              "0      10\n",
              "1      20\n",
              "2      30\n",
              "3      40"
            ]
          },
          "execution_count": 3,
          "metadata": {},
          "output_type": "execute_result"
        }
      ],
      "source": []
    },
    {
      "cell_type": "code",
      "execution_count": null,
      "metadata": {
        "colab": {
          "base_uri": "https://localhost:8080/"
        },
        "id": "Fox4D2kcd1gb",
        "outputId": "e2c7a05a-3e6a-4461-d2cf-0bba0610636f"
      },
      "outputs": [
        {
          "name": "stdout",
          "output_type": "stream",
          "text": [
            "Sum of the first three values: 60\n"
          ]
        }
      ],
      "source": [
        "def calculate_sum(df):\n",
        "    sum_values = 0\n",
        "    count = 0\n",
        "\n",
        "    for index, row in df.iterrows():\n",
        "        sum_values += row['Values']\n",
        "        count += 1\n",
        "\n",
        "        if count == 3:\n",
        "            break\n",
        "\n",
        "    print(\"Sum of the first three values:\", sum_values)\n",
        "# Call the function to calculate the sum of the first three values\n",
        "calculate_sum(df)\n"
      ]
    },
    {
      "cell_type": "markdown",
      "metadata": {
        "id": "DvU6gXYtjuLp"
      },
      "source": [
        "##Q4. Given a Pandas DataFrame df with a column 'Text', write a Python function to create a new column 'Word_Count' that contains the number of words in each row of the 'Text' column."
      ]
    },
    {
      "cell_type": "code",
      "execution_count": 1,
      "metadata": {
        "colab": {
          "base_uri": "https://localhost:8080/"
        },
        "id": "OKBN0wZqjEVi",
        "outputId": "2bb7eb6e-bd4a-49e2-cecf-05b75a756f3e"
      },
      "outputs": [
        {
          "output_type": "stream",
          "name": "stdout",
          "text": [
            "                  Text  Word_Count\n",
            "0  Hello, how are you?           4\n",
            "1    I am doing great!           4\n",
            "2    Python is awesome           3\n"
          ]
        }
      ],
      "source": [
        "import pandas as pd\n",
        "\n",
        "def add_word_count(df):\n",
        "    df['Word_Count'] = df['Text'].apply(lambda x: len(str(x).split()))\n",
        "    return df\n",
        "# Example DataFrame\n",
        "df = pd.DataFrame({'Text': ['Hello, how are you?', 'I am doing great!', 'Python is awesome']})\n",
        "\n",
        "# Call the function to add the 'Word_Count' column\n",
        "df = add_word_count(df)\n",
        "\n",
        "# Print the updated DataFrame\n",
        "print(df)\n"
      ]
    },
    {
      "cell_type": "markdown",
      "source": [
        "##Q5. How are DataFrame.size() and DataFrame.shape() different?\n",
        "Ans -\n",
        "1)DataFrame.size: This attribute returns the total number of elements in the DataFrame, which is equal to the product of the number of rows and the number of columns. It represents the overall size or capacity of the DataFrame. The DataFrame.size attribute does not take into account the content of the DataFrame or the data types of the elements. It simply gives you the total count of elements.\n",
        "\n",
        "2)DataFrame.shape: This attribute returns a tuple that represents the dimensions of the DataFrame in terms of rows and columns. The first element of the tuple is the number of rows, and the second element is the number of columns. It provides the actual structure or shape of the DataFrame."
      ],
      "metadata": {
        "id": "VL5M4wWOJ2cR"
      }
    },
    {
      "cell_type": "markdown",
      "source": [
        "##Q6. Which function of pandas do we use to read an excel file?"
      ],
      "metadata": {
        "id": "JC8BUUc_KLAB"
      }
    },
    {
      "cell_type": "code",
      "source": [
        "import pandas as pd\n",
        "\n",
        "# Read an Excel file into a DataFrame\n",
        "df = pd.read_csv('/content/taxonomy.csv.xls')\n"
      ],
      "metadata": {
        "id": "qgidesZ0J0Gj"
      },
      "execution_count": 2,
      "outputs": []
    },
    {
      "cell_type": "markdown",
      "source": [
        "Q7. You have a Pandas DataFrame df that contains a column named 'Email' that contains email addresses in the format 'username@domain.com'. Write a Python function that creates a new column 'Username' in df that contains only the username part of each email address."
      ],
      "metadata": {
        "id": "fXoT4MohKgyT"
      }
    },
    {
      "cell_type": "code",
      "source": [
        "import pandas as pd\n",
        "\n",
        "def extract_username(df):\n",
        "    df['Username'] = df['Email'].str.split('@').str[0]\n",
        "    return df\n",
        "# Example DataFrame\n",
        "df = pd.DataFrame({'Email': ['john.doe@example.com', 'jane.smith@example.com', 'alexander@example.com']})\n",
        "\n",
        "# Call the function to add the 'Username' column\n",
        "df = extract_username(df)\n",
        "\n",
        "# Print the updated DataFrame\n",
        "print(df)\n"
      ],
      "metadata": {
        "colab": {
          "base_uri": "https://localhost:8080/"
        },
        "id": "F9ziliyUKfsR",
        "outputId": "13193b6b-a0da-4611-8163-30875fca4e14"
      },
      "execution_count": 3,
      "outputs": [
        {
          "output_type": "stream",
          "name": "stdout",
          "text": [
            "                    Email    Username\n",
            "0    john.doe@example.com    john.doe\n",
            "1  jane.smith@example.com  jane.smith\n",
            "2   alexander@example.com   alexander\n"
          ]
        }
      ]
    },
    {
      "cell_type": "markdown",
      "source": [
        "Q8. You have a Pandas DataFrame df with columns 'A', 'B', and 'C'. Write a Python function that selects all rows where the value in column 'A' is greater than 5 and the value in column 'B' is less than 10. The\n",
        "function should return a new DataFrame that contains only the selected rows."
      ],
      "metadata": {
        "id": "n46IbzsqK2IM"
      }
    },
    {
      "cell_type": "code",
      "source": [
        "import pandas as pd\n",
        "\n",
        "def select_rows(df):\n",
        "    selected_rows = df[(df['A'] > 5) & (df['B'] < 10)]\n",
        "    return selected_rows\n",
        "# Example DataFrame\n",
        "df = pd.DataFrame({'A': [2, 7, 4, 9, 6], 'B': [8, 5, 12, 3, 2], 'C': [10, 20, 30, 40, 50]})\n",
        "\n",
        "# Call the function to select rows\n",
        "selected_df = select_rows(df)\n",
        "\n",
        "# Print the selected DataFrame\n",
        "print(selected_df)\n"
      ],
      "metadata": {
        "colab": {
          "base_uri": "https://localhost:8080/"
        },
        "id": "vzH1L0zQKx6C",
        "outputId": "51dda59a-bcce-41d6-ee30-7b96a551689f"
      },
      "execution_count": 4,
      "outputs": [
        {
          "output_type": "stream",
          "name": "stdout",
          "text": [
            "   A  B   C\n",
            "1  7  5  20\n",
            "3  9  3  40\n",
            "4  6  2  50\n"
          ]
        }
      ]
    },
    {
      "cell_type": "markdown",
      "source": [
        "Q9. Given a Pandas DataFrame df with a column 'Values', write a Python function to calculate the mean, median, and standard deviation of the values in the 'Values' column."
      ],
      "metadata": {
        "id": "YvjO23R8LMnR"
      }
    },
    {
      "cell_type": "code",
      "source": [
        "import pandas as pd\n",
        "\n",
        "def calculate_statistics(df):\n",
        "    mean = df['Values'].mean()\n",
        "    median = df['Values'].median()\n",
        "    std_dev = df['Values'].std()\n",
        "    return mean, median, std_dev\n",
        "# Example DataFrame\n",
        "df = pd.DataFrame({'Values': [5, 10, 15, 20, 25]})\n",
        "\n",
        "# Call the function to calculate statistics\n",
        "mean, median, std_dev = calculate_statistics(df)\n",
        "\n",
        "# Print the calculated statistics\n",
        "print(\"Mean:\", mean)\n",
        "print(\"Median:\", median)\n",
        "print(\"Standard Deviation:\", std_dev)\n"
      ],
      "metadata": {
        "colab": {
          "base_uri": "https://localhost:8080/"
        },
        "id": "wcXdREkbKwHm",
        "outputId": "f1c38a6e-85bf-4ad6-bdee-777017c2b6cc"
      },
      "execution_count": 5,
      "outputs": [
        {
          "output_type": "stream",
          "name": "stdout",
          "text": [
            "Mean: 15.0\n",
            "Median: 15.0\n",
            "Standard Deviation: 7.905694150420948\n"
          ]
        }
      ]
    },
    {
      "cell_type": "markdown",
      "source": [
        "Q10. Given a Pandas DataFrame df with a column 'Sales' and a column 'Date', write a Python function to create a new column 'MovingAverage' that contains the moving average of the sales for the past 7 days for each row in the DataFrame. The moving average should be calculated using a window of size 7 and should include the current day."
      ],
      "metadata": {
        "id": "o941aiqoLmc-"
      }
    },
    {
      "cell_type": "code",
      "source": [
        "import pandas as pd\n",
        "\n",
        "def calculate_moving_average(df):\n",
        "    df['MovingAverage'] = df['Sales'].rolling(window=7, min_periods=1).mean()\n",
        "    return df\n",
        "# Example DataFrame\n",
        "df = pd.DataFrame({\n",
        "    'Date': pd.date_range('2023-01-01', periods=14),\n",
        "    'Sales': [10, 12, 15, 14, 13, 11, 9, 10, 8, 12, 15, 16, 18, 20]\n",
        "})\n",
        "\n",
        "# Call the function to calculate the moving average\n",
        "df = calculate_moving_average(df)\n",
        "\n",
        "# Print the updated DataFrame\n",
        "print(df)\n"
      ],
      "metadata": {
        "colab": {
          "base_uri": "https://localhost:8080/"
        },
        "id": "tUEAkHvsLZvf",
        "outputId": "791c4df0-f754-4113-c9c5-e097753acaf9"
      },
      "execution_count": 6,
      "outputs": [
        {
          "output_type": "stream",
          "name": "stdout",
          "text": [
            "         Date  Sales  MovingAverage\n",
            "0  2023-01-01     10      10.000000\n",
            "1  2023-01-02     12      11.000000\n",
            "2  2023-01-03     15      12.333333\n",
            "3  2023-01-04     14      12.750000\n",
            "4  2023-01-05     13      12.800000\n",
            "5  2023-01-06     11      12.500000\n",
            "6  2023-01-07      9      12.000000\n",
            "7  2023-01-08     10      12.000000\n",
            "8  2023-01-09      8      11.428571\n",
            "9  2023-01-10     12      11.000000\n",
            "10 2023-01-11     15      11.142857\n",
            "11 2023-01-12     16      11.571429\n",
            "12 2023-01-13     18      12.571429\n",
            "13 2023-01-14     20      14.142857\n"
          ]
        }
      ]
    },
    {
      "cell_type": "markdown",
      "source": [
        "Q11. You have a Pandas DataFrame df with a column 'Date'. Write a Python function that creates a new\n",
        "column 'Weekday' in the DataFrame. The 'Weekday' column should contain the weekday name (e.g.\n",
        "Monday, Tuesday) corresponding to each date in the 'Date' column.\n",
        "For example, if df contains the following values:\n",
        "Date\n",
        "0 2023-01-01\n",
        "1 2023-01-02\n",
        "2 2023-01-03\n",
        "3 2023-01-04\n",
        "4 2023-01-05\n",
        "Your function should create the following DataFrame:\n",
        "\n",
        "Date Weekday\n",
        "0 2023-01-01 Sunday\n",
        "1 2023-01-02 Monday\n",
        "2 2023-01-03 Tuesday\n",
        "3 2023-01-04 Wednesday\n",
        "4 2023-01-05 Thursday\n",
        "The function should return the modified DataFrame."
      ],
      "metadata": {
        "id": "gEzLYj6KL2GK"
      }
    },
    {
      "cell_type": "code",
      "source": [
        "import pandas as pd\n",
        "\n",
        "def add_weekday(df):\n",
        "    df['Weekday'] = df['Date'].dt.strftime('%A')\n",
        "    return df\n"
      ],
      "metadata": {
        "id": "I-xcPr3ZLt-a"
      },
      "execution_count": 7,
      "outputs": []
    },
    {
      "cell_type": "code",
      "source": [
        "# Example DataFrame\n",
        "df = pd.DataFrame({'Date': pd.to_datetime(['2023-01-01', '2023-01-02', '2023-01-03', '2023-01-04', '2023-01-05'])})\n",
        "\n",
        "# Call the function to add the 'Weekday' column\n",
        "df = add_weekday(df)\n",
        "\n",
        "# Print the updated DataFrame\n",
        "print(df)\n"
      ],
      "metadata": {
        "colab": {
          "base_uri": "https://localhost:8080/"
        },
        "id": "vOCUj82WMEoV",
        "outputId": "7ca3944a-0372-4508-e7ae-b03f12d107b2"
      },
      "execution_count": 8,
      "outputs": [
        {
          "output_type": "stream",
          "name": "stdout",
          "text": [
            "        Date    Weekday\n",
            "0 2023-01-01     Sunday\n",
            "1 2023-01-02     Monday\n",
            "2 2023-01-03    Tuesday\n",
            "3 2023-01-04  Wednesday\n",
            "4 2023-01-05   Thursday\n"
          ]
        }
      ]
    },
    {
      "cell_type": "markdown",
      "source": [
        "Q12. Given a Pandas DataFrame df with a column 'Date' that contains timestamps, write a Python function to select all rows where the date is between '2023-01-01' and '2023-01-31'."
      ],
      "metadata": {
        "id": "cDiN_Jo7MLaa"
      }
    },
    {
      "cell_type": "code",
      "source": [
        "import pandas as pd\n",
        "\n",
        "def select_rows_between_dates(df):\n",
        "    start_date = '2023-01-01'\n",
        "    end_date = '2023-01-31'\n",
        "    selected_rows = df[df['Date'].between(start_date, end_date)]\n",
        "    return selected_rows\n"
      ],
      "metadata": {
        "id": "dWLCCRT9MGNl"
      },
      "execution_count": 9,
      "outputs": []
    },
    {
      "cell_type": "code",
      "source": [
        "# Example DataFrame\n",
        "df = pd.DataFrame({'Date': pd.date_range('2023-01-01', periods=50)})\n",
        "\n",
        "# Call the function to select rows between dates\n",
        "selected_df = select_rows_between_dates(df)\n",
        "\n",
        "# Print the selected DataFrame\n",
        "print(selected_df)\n"
      ],
      "metadata": {
        "colab": {
          "base_uri": "https://localhost:8080/"
        },
        "id": "VA1cnDmWMP1L",
        "outputId": "77e42966-554a-4224-a039-98c99d484692"
      },
      "execution_count": 10,
      "outputs": [
        {
          "output_type": "stream",
          "name": "stdout",
          "text": [
            "         Date\n",
            "0  2023-01-01\n",
            "1  2023-01-02\n",
            "2  2023-01-03\n",
            "3  2023-01-04\n",
            "4  2023-01-05\n",
            "5  2023-01-06\n",
            "6  2023-01-07\n",
            "7  2023-01-08\n",
            "8  2023-01-09\n",
            "9  2023-01-10\n",
            "10 2023-01-11\n",
            "11 2023-01-12\n",
            "12 2023-01-13\n",
            "13 2023-01-14\n",
            "14 2023-01-15\n",
            "15 2023-01-16\n",
            "16 2023-01-17\n",
            "17 2023-01-18\n",
            "18 2023-01-19\n",
            "19 2023-01-20\n",
            "20 2023-01-21\n",
            "21 2023-01-22\n",
            "22 2023-01-23\n",
            "23 2023-01-24\n",
            "24 2023-01-25\n",
            "25 2023-01-26\n",
            "26 2023-01-27\n",
            "27 2023-01-28\n",
            "28 2023-01-29\n",
            "29 2023-01-30\n",
            "30 2023-01-31\n"
          ]
        }
      ]
    },
    {
      "cell_type": "markdown",
      "source": [
        "Q13. To use the basic functions of pandas, what is the first and foremost necessary library that needs to be imported?"
      ],
      "metadata": {
        "id": "M9uyHJPEMUjb"
      }
    },
    {
      "cell_type": "code",
      "source": [
        "import pandas as pd\n"
      ],
      "metadata": {
        "id": "4SHhREOCMRhr"
      },
      "execution_count": 11,
      "outputs": []
    },
    {
      "cell_type": "code",
      "source": [],
      "metadata": {
        "id": "YpPcLT7bMbvg"
      },
      "execution_count": null,
      "outputs": []
    }
  ],
  "metadata": {
    "colab": {
      "provenance": []
    },
    "kernelspec": {
      "display_name": "Python 3",
      "name": "python3"
    },
    "language_info": {
      "name": "python"
    }
  },
  "nbformat": 4,
  "nbformat_minor": 0
}