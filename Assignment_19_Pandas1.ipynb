{
 "cells": [
  {
   "cell_type": "markdown",
   "metadata": {
    "id": "IySEUCYk3cMl"
   },
   "source": [
    "##Q1. Create a Pandas Series that contains the following data: 4, 8, 15, 16, 23, and 42. Then, print the series."
   ]
  },
  {
   "cell_type": "code",
   "execution_count": 1,
   "metadata": {
    "colab": {
     "base_uri": "https://localhost:8080/"
    },
    "id": "6FXz_y_g3Bzj",
    "outputId": "762cfff2-6856-4467-a0ee-90d9955b81e9"
   },
   "outputs": [
    {
     "name": "stdout",
     "output_type": "stream",
     "text": [
      "0     4\n",
      "1     8\n",
      "2    15\n",
      "3    16\n",
      "4    23\n",
      "5    42\n",
      "dtype: int64\n"
     ]
    }
   ],
   "source": [
    "import pandas as pd\n",
    "\n",
    "data = [4, 8, 15, 16, 23, 42]\n",
    "series = pd.Series(data)\n",
    "print(series)\n"
   ]
  },
  {
   "cell_type": "markdown",
   "metadata": {
    "id": "3-T-6uUN3055"
   },
   "source": [
    "##Q2. Create a variable of list type containing 10 elements in it, and apply pandas.Series function on the variable print it."
   ]
  },
  {
   "cell_type": "code",
   "execution_count": 2,
   "metadata": {
    "colab": {
     "base_uri": "https://localhost:8080/"
    },
    "id": "fjcjtUSN3fK_",
    "outputId": "ab29bd6b-08af-4ccf-f657-4e83c506b064"
   },
   "outputs": [
    {
     "name": "stdout",
     "output_type": "stream",
     "text": [
      "0     1\n",
      "1     2\n",
      "2     3\n",
      "3     4\n",
      "4     5\n",
      "5     6\n",
      "6     7\n",
      "7     8\n",
      "8     9\n",
      "9    10\n",
      "dtype: int64\n"
     ]
    }
   ],
   "source": [
    "import pandas as pd\n",
    "\n",
    "my_list = [1, 2, 3, 4, 5, 6, 7, 8, 9, 10]\n",
    "series = pd.Series(my_list)\n",
    "print(series)\n"
   ]
  },
  {
   "cell_type": "markdown",
   "metadata": {
    "id": "DYmUx8Ow4RzW"
   },
   "source": [
    "##Q3.Create a Pandas DataFrame that contains the following data:\n",
    "Name           Age               Gender\n",
    "Alice          25                Female\n",
    "Bob            30                Male\n",
    "Claire         27                Female\n",
    "\n",
    "\n",
    "\n",
    "\n",
    "\n",
    "\n",
    "\n",
    "\n",
    "\n"
   ]
  },
  {
   "cell_type": "code",
   "execution_count": 4,
   "metadata": {
    "colab": {
     "base_uri": "https://localhost:8080/"
    },
    "id": "5tPOK1I937P5",
    "outputId": "46bff889-f6f6-4ee5-b027-4675a5851aa3"
   },
   "outputs": [
    {
     "name": "stdout",
     "output_type": "stream",
     "text": [
      "     Name  Age  Gender\n",
      "0   Alice   25  Female\n",
      "1     Bob   30    Male\n",
      "2  Claire   27  Female\n"
     ]
    }
   ],
   "source": [
    "import pandas as pd\n",
    "\n",
    "data = {\n",
    "    'Name': ['Alice', 'Bob', 'Claire'],\n",
    "    'Age': [25, 30, 27],\n",
    "    'Gender': ['Female', 'Male', 'Female']\n",
    "}\n",
    "\n",
    "df = pd.DataFrame(data)\n",
    "print(df)\n"
   ]
  },
  {
   "cell_type": "markdown",
   "metadata": {
    "id": "dMw0P7Sb5Y_b"
   },
   "source": [
    " ##Q4. What is ‘DataFrame’ in pandas and how is it different from pandas.series? Explain with an example.\n",
    "\n",
    " A DataFrame is a two-dimensional labeled data structure that represents a table-like structure with rows and columns. It is similar to a spreadsheet or a SQL table. Each column in a DataFrame can be of a different data type (e.g., numeric, string, boolean), and it allows for more complex data manipulations and operations compared to a Series."
   ]
  },
  {
   "cell_type": "code",
   "execution_count": 5,
   "metadata": {
    "colab": {
     "base_uri": "https://localhost:8080/"
    },
    "id": "Y3LjqzHH5GnU",
    "outputId": "cbb8ad90-0e48-43d3-da63-03c7259b8ec2"
   },
   "outputs": [
    {
     "name": "stdout",
     "output_type": "stream",
     "text": [
      "0     4\n",
      "1     8\n",
      "2    15\n",
      "3    16\n",
      "4    23\n",
      "5    42\n",
      "dtype: int64\n"
     ]
    }
   ],
   "source": [
    "import pandas as pd\n",
    "\n",
    "# Example of a Series\n",
    "series = pd.Series([4, 8, 15, 16, 23, 42])\n",
    "print(series)\n"
   ]
  },
  {
   "cell_type": "code",
   "execution_count": 7,
   "metadata": {
    "colab": {
     "base_uri": "https://localhost:8080/"
    },
    "id": "eg-wMZJc6dZ9",
    "outputId": "9c572ace-02ed-4b30-9880-c1b2c274322d"
   },
   "outputs": [
    {
     "name": "stdout",
     "output_type": "stream",
     "text": [
      "      Name  Age  Gender\n",
      "0   Ganesh   29    male\n",
      "1   Shivam   28    Male\n",
      "2  Chandan   30  Female\n"
     ]
    }
   ],
   "source": [
    "import pandas as pd\n",
    "\n",
    "data = {\n",
    "    'Name': ['Ganesh', 'Shivam', 'Chandan'],\n",
    "    'Age': [29, 28, 30],\n",
    "    'Gender': ['male', 'Male', 'Female']\n",
    "}\n",
    "\n",
    "# Example of DataFrame\n",
    "df = pd.DataFrame(data)\n",
    "print(df)\n"
   ]
  },
  {
   "cell_type": "markdown",
   "metadata": {
    "id": "jaHphQaJ7Q9K"
   },
   "source": [
    "##Q5. What are some common functions you can use to manipulate data in a Pandas DataFrame? Canyou give an example of when you might use one of these functions?"
   ]
  },
  {
   "cell_type": "markdown",
   "metadata": {
    "id": "eryq2o1a8-_C"
   },
   "source": [
    "head(): Returns the first n rows of the DataFrame. It is useful to quickly inspect the data."
   ]
  },
  {
   "cell_type": "code",
   "execution_count": 8,
   "metadata": {
    "colab": {
     "base_uri": "https://localhost:8080/",
     "height": 112
    },
    "id": "_lI3jP-76zy8",
    "outputId": "8b6b5f49-bbd7-44b9-a5f4-47498d6395ea"
   },
   "outputs": [
    {
     "data": {
      "text/html": [
       "<div>\n",
       "<style scoped>\n",
       "    .dataframe tbody tr th:only-of-type {\n",
       "        vertical-align: middle;\n",
       "    }\n",
       "\n",
       "    .dataframe tbody tr th {\n",
       "        vertical-align: top;\n",
       "    }\n",
       "\n",
       "    .dataframe thead th {\n",
       "        text-align: right;\n",
       "    }\n",
       "</style>\n",
       "<table border=\"1\" class=\"dataframe\">\n",
       "  <thead>\n",
       "    <tr style=\"text-align: right;\">\n",
       "      <th></th>\n",
       "      <th>Name</th>\n",
       "      <th>Age</th>\n",
       "      <th>Gender</th>\n",
       "    </tr>\n",
       "  </thead>\n",
       "  <tbody>\n",
       "    <tr>\n",
       "      <th>0</th>\n",
       "      <td>Ganesh</td>\n",
       "      <td>29</td>\n",
       "      <td>male</td>\n",
       "    </tr>\n",
       "    <tr>\n",
       "      <th>1</th>\n",
       "      <td>Shivam</td>\n",
       "      <td>28</td>\n",
       "      <td>Male</td>\n",
       "    </tr>\n",
       "  </tbody>\n",
       "</table>\n",
       "</div>"
      ],
      "text/plain": [
       "     Name  Age Gender\n",
       "0  Ganesh   29   male\n",
       "1  Shivam   28   Male"
      ]
     },
     "execution_count": 8,
     "metadata": {},
     "output_type": "execute_result"
    }
   ],
   "source": [
    "df.head(2)  # Returns the first 5 rows of the DataFrame\n"
   ]
  },
  {
   "cell_type": "markdown",
   "metadata": {
    "id": "av7N8Fu_9GSu"
   },
   "source": [
    "tail(): Returns the last n rows of the DataFrame. It is useful to quickly inspect the end of the data."
   ]
  },
  {
   "cell_type": "code",
   "execution_count": 9,
   "metadata": {
    "colab": {
     "base_uri": "https://localhost:8080/",
     "height": 81
    },
    "id": "lZUrI-UL9Do3",
    "outputId": "f759986d-aa14-4427-bbc7-0efe9bd98c9e"
   },
   "outputs": [
    {
     "data": {
      "text/html": [
       "<div>\n",
       "<style scoped>\n",
       "    .dataframe tbody tr th:only-of-type {\n",
       "        vertical-align: middle;\n",
       "    }\n",
       "\n",
       "    .dataframe tbody tr th {\n",
       "        vertical-align: top;\n",
       "    }\n",
       "\n",
       "    .dataframe thead th {\n",
       "        text-align: right;\n",
       "    }\n",
       "</style>\n",
       "<table border=\"1\" class=\"dataframe\">\n",
       "  <thead>\n",
       "    <tr style=\"text-align: right;\">\n",
       "      <th></th>\n",
       "      <th>Name</th>\n",
       "      <th>Age</th>\n",
       "      <th>Gender</th>\n",
       "    </tr>\n",
       "  </thead>\n",
       "  <tbody>\n",
       "    <tr>\n",
       "      <th>2</th>\n",
       "      <td>Chandan</td>\n",
       "      <td>30</td>\n",
       "      <td>Female</td>\n",
       "    </tr>\n",
       "  </tbody>\n",
       "</table>\n",
       "</div>"
      ],
      "text/plain": [
       "      Name  Age  Gender\n",
       "2  Chandan   30  Female"
      ]
     },
     "execution_count": 9,
     "metadata": {},
     "output_type": "execute_result"
    }
   ],
   "source": [
    "df.tail(1)  # Returns the last 3 rows of the DataFrame\n"
   ]
  },
  {
   "cell_type": "markdown",
   "metadata": {
    "id": "fTrgyycF9TOI"
   },
   "source": [
    "shape: Returns a tuple representing the dimensions (rows, columns) of the DataFrame. It is useful to check the size of the DataFrame."
   ]
  },
  {
   "cell_type": "code",
   "execution_count": 10,
   "metadata": {
    "colab": {
     "base_uri": "https://localhost:8080/"
    },
    "id": "zidoSQfn9NnU",
    "outputId": "7e9aa8a7-351f-4d32-f95c-2396a26ce712"
   },
   "outputs": [
    {
     "name": "stdout",
     "output_type": "stream",
     "text": [
      "(3, 3)\n"
     ]
    }
   ],
   "source": [
    "print(df.shape)  # Prints the dimensions of the DataFrame\n"
   ]
  },
  {
   "cell_type": "markdown",
   "metadata": {
    "id": "wcz_OK_R9We5"
   },
   "source": [
    "describe(): Generates descriptive statistics of the DataFrame, including count, mean, standard deviation, minimum, maximum, etc. It is useful for getting an overview of the data distribution."
   ]
  },
  {
   "cell_type": "code",
   "execution_count": 11,
   "metadata": {
    "colab": {
     "base_uri": "https://localhost:8080/"
    },
    "id": "EYwjj-_s9Vlm",
    "outputId": "a61812a9-8acc-4abb-9235-72d5796472e3"
   },
   "outputs": [
    {
     "name": "stdout",
     "output_type": "stream",
     "text": [
      "        Age\n",
      "count   3.0\n",
      "mean   29.0\n",
      "std     1.0\n",
      "min    28.0\n",
      "25%    28.5\n",
      "50%    29.0\n",
      "75%    29.5\n",
      "max    30.0\n"
     ]
    }
   ],
   "source": [
    "print(df.describe())  # Prints descriptive statistics of the DataFrame\n"
   ]
  },
  {
   "cell_type": "markdown",
   "metadata": {
    "id": "RbG08ocK9hH1"
   },
   "source": [
    "info(): Provides a summary of the DataFrame, including the column names, data types, and non-null values. It is useful for understanding the structure and data types of the DataFrame."
   ]
  },
  {
   "cell_type": "code",
   "execution_count": 12,
   "metadata": {
    "colab": {
     "base_uri": "https://localhost:8080/"
    },
    "id": "EbPmSwBd9bEC",
    "outputId": "1a7de020-e8ec-4048-c4d6-f370b0a446f2"
   },
   "outputs": [
    {
     "name": "stdout",
     "output_type": "stream",
     "text": [
      "<class 'pandas.core.frame.DataFrame'>\n",
      "RangeIndex: 3 entries, 0 to 2\n",
      "Data columns (total 3 columns):\n",
      " #   Column  Non-Null Count  Dtype \n",
      "---  ------  --------------  ----- \n",
      " 0   Name    3 non-null      object\n",
      " 1   Age     3 non-null      int64 \n",
      " 2   Gender  3 non-null      object\n",
      "dtypes: int64(1), object(2)\n",
      "memory usage: 200.0+ bytes\n"
     ]
    }
   ],
   "source": [
    "df.info()  # Prints the summary information of the DataFrame\n"
   ]
  },
  {
   "cell_type": "markdown",
   "metadata": {
    "id": "lC3-P3yM9oCe"
   },
   "source": [
    "sort_values(): Sorts the DataFrame by one or more columns. It is useful for ordering the data based on specific criteria."
   ]
  },
  {
   "cell_type": "code",
   "execution_count": 15,
   "metadata": {
    "id": "YpbDAr3O9j0p"
   },
   "outputs": [
    {
     "data": {
      "text/html": [
       "<div>\n",
       "<style scoped>\n",
       "    .dataframe tbody tr th:only-of-type {\n",
       "        vertical-align: middle;\n",
       "    }\n",
       "\n",
       "    .dataframe tbody tr th {\n",
       "        vertical-align: top;\n",
       "    }\n",
       "\n",
       "    .dataframe thead th {\n",
       "        text-align: right;\n",
       "    }\n",
       "</style>\n",
       "<table border=\"1\" class=\"dataframe\">\n",
       "  <thead>\n",
       "    <tr style=\"text-align: right;\">\n",
       "      <th></th>\n",
       "      <th>Name</th>\n",
       "      <th>Age</th>\n",
       "      <th>Gender</th>\n",
       "    </tr>\n",
       "  </thead>\n",
       "  <tbody>\n",
       "    <tr>\n",
       "      <th>1</th>\n",
       "      <td>Shivam</td>\n",
       "      <td>28</td>\n",
       "      <td>Male</td>\n",
       "    </tr>\n",
       "    <tr>\n",
       "      <th>0</th>\n",
       "      <td>Ganesh</td>\n",
       "      <td>29</td>\n",
       "      <td>male</td>\n",
       "    </tr>\n",
       "    <tr>\n",
       "      <th>2</th>\n",
       "      <td>Chandan</td>\n",
       "      <td>30</td>\n",
       "      <td>Female</td>\n",
       "    </tr>\n",
       "  </tbody>\n",
       "</table>\n",
       "</div>"
      ],
      "text/plain": [
       "      Name  Age  Gender\n",
       "1   Shivam   28    Male\n",
       "0   Ganesh   29    male\n",
       "2  Chandan   30  Female"
      ]
     },
     "execution_count": 15,
     "metadata": {},
     "output_type": "execute_result"
    }
   ],
   "source": [
    "sorted_df = df.sort_values('Age')  # Sorts the DataFrame by the 'Age' column\n",
    "sorted_df"
   ]
  },
  {
   "cell_type": "markdown",
   "metadata": {
    "id": "PDGde6Zw9swA"
   },
   "source": [
    "groupby(): Groups the DataFrame by one or more columns and performs aggregate operations on the groups. It is useful for analyzing data based on categories or groups."
   ]
  },
  {
   "cell_type": "code",
   "execution_count": 16,
   "metadata": {
    "id": "aCubU6Wv9qB8"
   },
   "outputs": [
    {
     "data": {
      "text/plain": [
       "Gender\n",
       "Female    30.0\n",
       "Male      28.0\n",
       "male      29.0\n",
       "Name: Age, dtype: float64"
      ]
     },
     "execution_count": 16,
     "metadata": {},
     "output_type": "execute_result"
    }
   ],
   "source": [
    "grouped_df = df.groupby('Gender')['Age'].mean()  # Calculates the mean age for each gender\n",
    "grouped_df"
   ]
  },
  {
   "cell_type": "markdown",
   "metadata": {
    "id": "7pvTfvXi9zH8"
   },
   "source": [
    "drop(): Removes specified rows or columns from the DataFrame. It is useful for deleting unnecessary data."
   ]
  },
  {
   "cell_type": "code",
   "execution_count": 17,
   "metadata": {
    "id": "HayP1adK9vbl"
   },
   "outputs": [
    {
     "data": {
      "text/html": [
       "<div>\n",
       "<style scoped>\n",
       "    .dataframe tbody tr th:only-of-type {\n",
       "        vertical-align: middle;\n",
       "    }\n",
       "\n",
       "    .dataframe tbody tr th {\n",
       "        vertical-align: top;\n",
       "    }\n",
       "\n",
       "    .dataframe thead th {\n",
       "        text-align: right;\n",
       "    }\n",
       "</style>\n",
       "<table border=\"1\" class=\"dataframe\">\n",
       "  <thead>\n",
       "    <tr style=\"text-align: right;\">\n",
       "      <th></th>\n",
       "      <th>Name</th>\n",
       "    </tr>\n",
       "  </thead>\n",
       "  <tbody>\n",
       "    <tr>\n",
       "      <th>0</th>\n",
       "      <td>Ganesh</td>\n",
       "    </tr>\n",
       "    <tr>\n",
       "      <th>1</th>\n",
       "      <td>Shivam</td>\n",
       "    </tr>\n",
       "    <tr>\n",
       "      <th>2</th>\n",
       "      <td>Chandan</td>\n",
       "    </tr>\n",
       "  </tbody>\n",
       "</table>\n",
       "</div>"
      ],
      "text/plain": [
       "      Name\n",
       "0   Ganesh\n",
       "1   Shivam\n",
       "2  Chandan"
      ]
     },
     "execution_count": 17,
     "metadata": {},
     "output_type": "execute_result"
    }
   ],
   "source": [
    "cleaned_df = df.drop(['Age', 'Gender'], axis=1)  # Drops 'age' and '' from Gender the DataFrame\n",
    "cleaned_df"
   ]
  },
  {
   "cell_type": "markdown",
   "metadata": {
    "id": "8ydyuh_Y-491"
   },
   "source": [
    "##Q6. Which of the following is mutable in nature Series, DataFrame, Panel?\n",
    "\n",
    "Series: A Series in pandas is mutable, meaning its values can be modified or updated after creation. You can change the values of a Series by assigning new values to specific indices or slices.\n",
    "\n",
    "DataFrame: Similarly, a DataFrame is mutable. You can modify or update the values in a DataFrame by assigning new values to specific cells, columns, or rows.\n",
    "\n",
    "Panel: However, Panel is no longer recommended for use in pandas and is considered deprecated. Panels were a three-dimensional data structure in earlier versions of pandas but have been removed from the library starting from pandas version 0.20.0. Therefore, Panels are not mutable because they are no longer supported in the latest versions of pandas."
   ]
  },
  {
   "cell_type": "markdown",
   "metadata": {
    "id": "0YQTDo5v_TFB"
   },
   "source": [
    "##Q7. Create a DataFrame using multiple Series. Explain with an example."
   ]
  },
  {
   "cell_type": "code",
   "execution_count": 18,
   "metadata": {
    "colab": {
     "base_uri": "https://localhost:8080/"
    },
    "id": "V84-Xczg92BP",
    "outputId": "cb8f983e-468b-4b27-e844-d25d7afe91a3"
   },
   "outputs": [
    {
     "name": "stdout",
     "output_type": "stream",
     "text": [
      "     Name  Age  Gender\n",
      "0   Alice   25  Female\n",
      "1     Bob   30    Male\n",
      "2  Claire   27  Female\n"
     ]
    }
   ],
   "source": [
    "import pandas as pd\n",
    "\n",
    "# Creating Series objects\n",
    "name_series = pd.Series(['Alice', 'Bob', 'Claire'])\n",
    "age_series = pd.Series([25, 30, 27])\n",
    "gender_series = pd.Series(['Female', 'Male', 'Female'])\n",
    "\n",
    "# Creating DataFrame using the Series objects\n",
    "data = {\n",
    "    'Name': name_series,\n",
    "    'Age': age_series,\n",
    "    'Gender': gender_series\n",
    "}\n",
    "\n",
    "df = pd.DataFrame(data)\n",
    "print(df)\n"
   ]
  },
  {
   "cell_type": "code",
   "execution_count": null,
   "metadata": {},
   "outputs": [],
   "source": []
  }
 ],
 "metadata": {
  "colab": {
   "provenance": []
  },
  "kernelspec": {
   "display_name": "Python 3 (ipykernel)",
   "language": "python",
   "name": "python3"
  },
  "language_info": {
   "codemirror_mode": {
    "name": "ipython",
    "version": 3
   },
   "file_extension": ".py",
   "mimetype": "text/x-python",
   "name": "python",
   "nbconvert_exporter": "python",
   "pygments_lexer": "ipython3",
   "version": "3.10.8"
  }
 },
 "nbformat": 4,
 "nbformat_minor": 4
}
